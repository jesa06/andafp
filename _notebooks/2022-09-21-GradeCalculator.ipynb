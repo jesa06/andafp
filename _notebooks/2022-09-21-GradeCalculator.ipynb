{
 "cells": [
  {
   "cell_type": "code",
   "execution_count": null,
   "metadata": {},
   "outputs": [],
   "source": [
    "# Grade Average Calculator"
   ]
  },
  {
   "cell_type": "code",
   "execution_count": null,
   "metadata": {},
   "outputs": [],
   "source": [
    "StudentInfo = []\n",
    "StudentInfo.append({\n",
    "    \"Student Name\": \"Joselyn Anda\",\n",
    "    \"Grade\": \"11, Junior\"\n",
    "    \"Period\": \"\"\n",
    "})"
   ]
  },
  {
   "cell_type": "code",
   "execution_count": null,
   "metadata": {},
   "outputs": [],
   "source": [
    "def questions_and_answer(prompt):\n",
    "    print(\"question\" + prompt)\n",
    "      msg = input()\n",
    "    print(\"Answer: \" + msg)\n",
    "    \n",
    "def question_with_response(prompt):\n",
    "    print(\"Question: \" + prompt)\n",
    "    msg = input()\n",
    "    return msg\n",
    "\n",
    "questions = \n",
    "correct = 0  \n",
    "\n",
    "print(\"Fill in the following information to calculate your grade average.\")\n",
    "\n",
    "rsp = question_with_response(\"What is your name?\")\n",
    "print(\"Hi \" + rsp + \" nice to meet you :)\")\n",
    "\n",
    "rsp = question_with_response(\"Do you have a dog?\")\n",
    "print(\" Me too! \")\n",
    "\n",
    "rsp = question_with_response(\"Is/are your dog(s) a boy or a girl?\")\n",
    "print(\" Oh \" + rsp + \"  Cool, I have 2 girls \")\n",
    "\n",
    "def print_data(d_rec):\n",
    "    print(d_rec_[\"Student Name\"])\n",
    "    \n"
   ]
  }
 ],
 "metadata": {
  "kernelspec": {
   "display_name": "Python 3.9.12 ('base')",
   "language": "python",
   "name": "python3"
  },
  "language_info": {
   "name": "python",
   "version": "3.9.12"
  },
  "orig_nbformat": 4,
  "vscode": {
   "interpreter": {
    "hash": "40d3a090f54c6569ab1632332b64b2c03c39dcf918b08424e98f38b5ae0af88f"
   }
  }
 },
 "nbformat": 4,
 "nbformat_minor": 2
}
