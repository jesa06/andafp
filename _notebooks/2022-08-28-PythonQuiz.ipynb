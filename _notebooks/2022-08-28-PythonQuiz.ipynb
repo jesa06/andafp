{
 "cells": [
  {
   "cell_type": "markdown",
   "metadata": {},
   "source": [
    "# Python Vocabulary Quiz\n",
    "> I added onto the questions."
   ]
  },
  {
   "cell_type": "code",
   "execution_count": 3,
   "metadata": {},
   "outputs": [
    {
     "name": "stdout",
     "output_type": "stream",
     "text": [
      "Hello, jesa running /Library/Developer/CommandLineTools/usr/bin/python3\n",
      "You will be asked 6 questions.\n",
      "Question: Are you ready to take a test?\n",
      "Answer: yes!\n",
      "Question: What command is used to include other functions that are developed?\n",
      "import is correct :)\n",
      "Question: What command in this example is used to evaluate a response?\n",
      "if is correct :)\n",
      "Question: Each 'if' command contains an '_________' to determine a true or false condition?\n",
      "expression is correct :)\n",
      "Question: To use Static Text, what is the command or function?\n",
      "print()is correct :)\n",
      "Question: What is the key word that defines a function, in Python?\n",
      "def is correct :)\n",
      "Question: What turns number into string?\n",
      "function str()is correct :)\n",
      "jesa great job! you scored 6/6\n"
     ]
    }
   ],
   "source": [
    "import getpass, sys\n",
    "from tkinter import Y\n",
    "\n",
    "def question_and_answer(prompt):\n",
    "    print(\"Question: \" + prompt)\n",
    "    msg = input()\n",
    "    print(\"Answer: \" + msg)\n",
    "    \n",
    "def question_with_response(prompt):\n",
    "    print(\"Question: \" + prompt)\n",
    "    msg = input()\n",
    "    return msg\n",
    "\n",
    "questions = 6\n",
    "correct = 0\n",
    "\n",
    "print('Hello, ' + getpass.getuser() + \" running \" + sys.executable)\n",
    "print(\"You will be asked \" + str(questions) + \" questions.\")\n",
    "question_and_answer(\"Are you ready to take a test?\")\n",
    "\n",
    "rsp = question_with_response(\"What command is used to include other functions that are developed?\")\n",
    "if rsp == \"import\":\n",
    "    print(rsp + \" is correct :)\")\n",
    "    correct += 1\n",
    "else:\n",
    "    print(rsp + \" is incorrect:(\")\n",
    "\n",
    "rsp = question_with_response(\"What command in this example is used to evaluate a response?\")\n",
    "if rsp == \"if\":\n",
    "    print(rsp + \" is correct :)\")\n",
    "    correct += 1\n",
    "else:\n",
    "    print(rsp + \" is incorrect :(\")\n",
    "\n",
    "rsp = question_with_response(\"Each 'if' command contains an '_________' to determine a true or false condition?\")\n",
    "if rsp == \"expression\":\n",
    "    print(rsp + \" is correct :)\")\n",
    "    correct += 1\n",
    "else:\n",
    "    print(rsp + \" is incorrect :(\")\n",
    "\n",
    "rsp = question_with_response(\"To use Static Text, what is the command or function?\") \n",
    "if rsp == \"print()\":\n",
    "    print(rsp + \"is correct :)\")\n",
    "    correct += 1\n",
    "else:\n",
    "    print(rsp + \"is incorrect :(\")\n",
    "\n",
    "rsp = question_with_response(\"What is the key word that defines a function, in Python?\")\n",
    "if rsp == \"def\":\n",
    "    print (rsp + \" is correct :)\")\n",
    "    correct += 1\n",
    "else:\n",
    "    print(rsp + \" is incorrect :(\")\n",
    "    \n",
    "rsp = question_with_response(\"What turns number into string?\")\n",
    "if rsp == \"function str()\":\n",
    "    print (rsp + \"is correct :)\")\n",
    "    correct += 1\n",
    "else:\n",
    "    print(rsp + \"is incorrect :(\") \n",
    "\n",
    "print(getpass.getuser() + \" great job! you scored \" + str(correct) +\"/\" + str(questions))"
   ]
  }
 ],
 "metadata": {
  "kernelspec": {
   "display_name": "Python 3.8.9 64-bit",
   "language": "python",
   "name": "python3"
  },
  "language_info": {
   "codemirror_mode": {
    "name": "ipython",
    "version": 3
   },
   "file_extension": ".py",
   "mimetype": "text/x-python",
   "name": "python",
   "nbconvert_exporter": "python",
   "pygments_lexer": "ipython3",
   "version": "3.8.9"
  },
  "orig_nbformat": 4,
  "vscode": {
   "interpreter": {
    "hash": "31f2aee4e71d21fbe5cf8b01ff0e069b9275f58929596ceb00d14d90e3e16cd6"
   }
  }
 },
 "nbformat": 4,
 "nbformat_minor": 2
}
