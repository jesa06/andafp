{
 "cells": [
  {
   "cell_type": "markdown",
   "metadata": {},
   "source": [
    "# Lesson 9 3.17 and 3.18 Notes and Hacks \n",
    "> Joselyn Anda "
   ]
  },
  {
   "cell_type": "markdown",
   "metadata": {},
   "source": [
    "# 3.17 Algorithm Efficiency \n",
    "\n",
    "## Key Vocabulary \n",
    "- A *problem* is a description of a task that may or may not be able to be solved through the use of an algorithm. An instance of a problem includes a specific input. One example of this type of problem is a sorting problem.\n",
    "- A *decision problem* is a problem with a binary answer (yes or no). An optimization problem is a problem with the objective of finding the BEST solution amongst many possibilities to solve a problem.\n",
    "- An algorithm's *efficiency* is determine through formal or mathematical reasoning."
   ]
  },
  {
   "cell_type": "markdown",
   "metadata": {},
   "source": [
    "## Comparing Algorithms \n",
    "### Algorithm #1\n",
    "\n",
    "In algorithm #1, the program repeatedly compares two elements in an array of values that are right next to each other, and then swaps them if they are in the wrong order.\n",
    "\n",
    "In this case, the numbers were 4, 5, 7, and 2 (in that order). The code would look a little like this (notice the bubble sort that was covered by another group!):\n",
    "\n"
   ]
  },
  {
   "cell_type": "code",
   "execution_count": 1,
   "metadata": {},
   "outputs": [
    {
     "name": "stdout",
     "output_type": "stream",
     "text": [
      "Here is your sorted array:\n",
      "2\n",
      "4\n",
      "5\n",
      "7\n"
     ]
    }
   ],
   "source": [
    "def bubbleSort(arr):\n",
    "    n = len(arr)\n",
    "    \n",
    "    for i in range(n):\n",
    "        for j in range(0, n - i - 1):\n",
    "            if arr[j] > arr[j + 1]:\n",
    "                arr[j], arr[j + 1] = arr[j + 1], arr[j]\n",
    "\n",
    "arr = [4, 5, 7, 2]\n",
    "bubbleSort(arr)\n",
    "\n",
    "print(\"Here is your sorted array:\")\n",
    "for i in range(len(arr)):\n",
    "    print(\"%d\" % arr[i])"
   ]
  },
  {
   "cell_type": "markdown",
   "metadata": {},
   "source": [
    "### Algorithm #2\n",
    "- This code ALSO worked. But, in comparison to the first algorithm, this algorithm took less comparisons and less swaps.\n",
    "\n"
   ]
  },
  {
   "cell_type": "code",
   "execution_count": 2,
   "metadata": {},
   "outputs": [
    {
     "name": "stdout",
     "output_type": "stream",
     "text": [
      "Here is your sorted array:\n",
      "[2, 4, 5, 7]\n"
     ]
    }
   ],
   "source": [
    "def selectionSort(array,value):\n",
    "    for step in range(value):\n",
    "        min_element = step\n",
    "        \n",
    "        for i in range(step + 1, value):\n",
    "            if array[i] < array[min_element]:\n",
    "                min_element = i\n",
    "        (array[step], array[min_element]) = (array[min_element], array[step])\n",
    "        \n",
    "cards = [4, 5, 7, 2]\n",
    "value = len(cards)\n",
    "\n",
    "selectionSort(cards,value)\n",
    "\n",
    "print(\"Here is your sorted array:\")\n",
    "print(cards)"
   ]
  },
  {
   "cell_type": "markdown",
   "metadata": {},
   "source": [
    "## Practice\n",
    "\n",
    "1. Q: Which of the following algorithms is a step 1 algorithm?\n",
    "\n",
    "    - A. 3^4\n",
    "    - B. (2 x 4)^2\n",
    "    - C. 2 x 4\n",
    "    - D. 6^4\n",
    "\n",
    "    - <mark>Answer</mark>: C, the integer is 2, and it is being multiplied by a value 'n', which is 4\n",
    "    - The first step consists of an integer being multiplied by a variable 'n'. An example of this could be 5 * n.\n",
    "\n",
    "2. Q: Which of the following algorithms is a two-step algorithm?\n",
    "\n",
    "    - A. 3^4 \n",
    "    - B. (2 x 4)^2 \n",
    "    - C. 2 x 4 \n",
    "    - D. 6 + 4\n",
    "\n",
    "    - <mark>Answer</mark>: A, the integer is 3, and it is being raised to the power of 4\n",
    "    - A two-step algorithm consists of an integer to the power of the variable 'n'.\n",
    "\n",
    "3. A three-step algorithm is an algorithm where there is a variable multiplied by an integer, all to the power of 2.\n",
    "\n",
    "- An example of this would be (2 * n)^2.\n",
    "\n",
    "4. Finally, a four-step algorithm is a variable factorial. For instance, 5! = 5 4 3 2 1 = 120.\n",
    "\n",
    "    - 1 step: Linear\n",
    "    - 2 steps: Exponential\n",
    "    - 3 steps: Square\n",
    "    - 4 steps: Factorial\n",
    "\n",
    "## Constant time:\n",
    "- When an algorithm runs in constant time, it means that it always takes a fixed number of steps, no matter how large the input size increases.\n",
    "\n",
    "## Linear time:\n",
    "- When an algorithm grows in linear time, its number of steps increases in direct proportion to the input size.\n",
    "\n",
    "## Quadratic time:\n",
    "- When an algorithm grows in quadratic time, its steps increase in proportion to the input size squared.\n",
    "\n",
    "## Exponential time:\n",
    "- When an algorithm grows in superpolynomial time, its number of steps increases faster than a polynomial function of the input size.\n",
    "\n",
    "- An algorithm often requires superpolynomial time when it must look at every permutation of values. For example, consider an algorithm that generates all possible numerical passwords for a given password length.\n",
    "\n",
    "## Polynomial vs. Superpolynomial\n",
    "\n",
    "1. Polynomial time describes any run time that does not increase faster than n^k which includes Constant time, Quadratic time, and other higher degree polynomials\n",
    "    - Algorithms with a polynomial efficiency or lower (constant, linear, square, cube, etc.)\n",
    "    - reasonable\n",
    "\n",
    "2. Superpolynomial time describes any run time that does increase faster than n^k which includes Exponential time and factorial time\n",
    "    - often requires more time than available in the universe, even for relatively small input sizes\n",
    "    - unreasonable\n",
    "    - Algorithms with exponential or factorial efficiencies\n",
    "\n"
   ]
  },
  {
   "cell_type": "markdown",
   "metadata": {},
   "source": [
    "# 3.18 Undecidable Problems\n",
    "\n",
    "## Main Idea: \n",
    "- There are problems that computers cannot solve, and even when a computer can solve a problem, it may not be able to do so in a reasonable amount of time.\n",
    "\n",
    "## Key Vocabulary\n",
    "- *undecidable problem*- problems for which no algorithms can be built that can provide a correct yes or no answer or a solution\n",
    "- *decidable problem*- problems for which algorthms could be written to solve/produce a correct output for all inputs\n",
    "\n"
   ]
  },
  {
   "cell_type": "markdown",
   "metadata": {},
   "source": [
    "## Examples\n",
    "### Decidable problem\n",
    "- gives a yes or no for every input, can be solved with an algorithm"
   ]
  },
  {
   "cell_type": "code",
   "execution_count": 4,
   "metadata": {},
   "outputs": [
    {
     "name": "stdout",
     "output_type": "stream",
     "text": [
      "is even\n"
     ]
    }
   ],
   "source": [
    "num = 4\n",
    "\n",
    "if num % 2 == 0: # divides num by 2 and checks remainder. \n",
    "    print(\"is even\") # if remainder is 0, num is even\n",
    "else:\n",
    "    print(\"is not even\") # if there is any remainder e.g its odd num: num is odd\n"
   ]
  },
  {
   "cell_type": "markdown",
   "metadata": {},
   "source": [
    "### Undecidable problem\n",
    "- These are problems for which no algorithms can be built that can provide a correct yes or no answer for every input\n",
    "\n"
   ]
  },
  {
   "cell_type": "code",
   "execution_count": 5,
   "metadata": {},
   "outputs": [
    {
     "ename": "KeyboardInterrupt",
     "evalue": "",
     "output_type": "error",
     "traceback": [
      "\u001b[0;31m---------------------------------------------------------------------------\u001b[0m",
      "\u001b[0;31mKeyboardInterrupt\u001b[0m                         Traceback (most recent call last)",
      "\u001b[1;32m/Users/jesa/vscode/andafp/_notebooks/2022-12-14-Lesson317and318.ipynb Cell 12\u001b[0m in \u001b[0;36m<cell line: 2>\u001b[0;34m()\u001b[0m\n\u001b[1;32m      <a href='vscode-notebook-cell:/Users/jesa/vscode/andafp/_notebooks/2022-12-14-Lesson317and318.ipynb#X22sZmlsZQ%3D%3D?line=0'>1</a>\u001b[0m x \u001b[39m=\u001b[39m \u001b[39minput\u001b[39m()\n\u001b[1;32m      <a href='vscode-notebook-cell:/Users/jesa/vscode/andafp/_notebooks/2022-12-14-Lesson317and318.ipynb#X22sZmlsZQ%3D%3D?line=1'>2</a>\u001b[0m \u001b[39mwhile\u001b[39;00m x:\n\u001b[0;32m----> <a href='vscode-notebook-cell:/Users/jesa/vscode/andafp/_notebooks/2022-12-14-Lesson317and318.ipynb#X22sZmlsZQ%3D%3D?line=2'>3</a>\u001b[0m     \u001b[39mpass\u001b[39;00m\n",
      "\u001b[0;31mKeyboardInterrupt\u001b[0m: "
     ]
    }
   ],
   "source": [
    "x = input()\n",
    "while x:\n",
    "    pass\n"
   ]
  },
  {
   "cell_type": "code",
   "execution_count": null,
   "metadata": {},
   "outputs": [],
   "source": [
    "def fumo():\n",
    "    a = 0 \n",
    "    i = 1\n",
    "    while a != 1:\n",
    "        i = i + 1\n",
    "        print(i)\n",
    "\n",
    "fumo()"
   ]
  },
  {
   "cell_type": "markdown",
   "metadata": {},
   "source": [
    "### Barber Paradox: \n",
    "- There was a barber in a small town on Crick Island, and one day he made a rule that he would only cut the hair of people who did not cut their own hair. The barber's rule seemed to make sense, since people cut their own hair, so I do not have to \"do more than that\", I will give this person a haircut. Initially, there was nothing wrong with this rule, but later, as the barber's own hair grew longer and longer, he found himself in a dilemma: should he give himself a haircut?\n",
    "- Answer: If he cuts his own hair, then he becomes the \"person who cuts his own hair\" in his regulations, then he should not cut his own hair; if he does not cut his own hair, then he is not the one in his regulations A person who cuts his own hair\", then he should cut his own hair. Combining the above two situations, \"he cuts his own hair\" if and only if \"he does not cut his own hair\", which becomes a paradox.\n",
    "\n"
   ]
  },
  {
   "cell_type": "markdown",
   "metadata": {},
   "source": [
    "# Hacks/Homework"
   ]
  }
 ],
 "metadata": {
  "kernelspec": {
   "display_name": "Python 3.9.12 ('base')",
   "language": "python",
   "name": "python3"
  },
  "language_info": {
   "codemirror_mode": {
    "name": "ipython",
    "version": 3
   },
   "file_extension": ".py",
   "mimetype": "text/x-python",
   "name": "python",
   "nbconvert_exporter": "python",
   "pygments_lexer": "ipython3",
   "version": "3.9.12"
  },
  "orig_nbformat": 4,
  "vscode": {
   "interpreter": {
    "hash": "40d3a090f54c6569ab1632332b64b2c03c39dcf918b08424e98f38b5ae0af88f"
   }
  }
 },
 "nbformat": 4,
 "nbformat_minor": 2
}
