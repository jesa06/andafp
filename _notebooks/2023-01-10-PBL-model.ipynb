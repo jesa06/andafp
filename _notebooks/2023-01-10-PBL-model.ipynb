{
 "cells": [
  {
   "attachments": {},
   "cell_type": "markdown",
   "metadata": {},
   "source": [
    "# Model and Object-Oriented Programming\n",
    "> Object Oriented Programming is a part of learning Python.  The objective of this blog is to introduce OOP with the intention of PBL task to create a database.  The foundations for a database is defining a Class and understanding instance data and methods.  A database is often a focus of backend coding as it will store persistent data, that can be recalled after the immediate session is closed.\n",
    "\n",
    "- title: Model and Object-Oriented Programming\n",
    "- toc: true\n",
    "- categories: []\n",
    "- image: /images/python.png\n",
    "- type: pbl\n",
    "- week: 18"
   ]
  },
  {
   "attachments": {},
   "cell_type": "markdown",
   "metadata": {},
   "source": [
    "## Class and Object Terms\n",
    "> The foundations of Object-Oriented Programming is defining a ***Class***  \n",
    "* In Object-Oriented Programming (OOP), a class is a blueprint for creating an ***Object***. (a data structure).  An Object is used like many other Python variables.\n",
    "* A Class has ...\n",
    "    * a collection of data, these are called ***Attributes*** and in Python are pre-fixed using the keyword ***self***\n",
    "    * a collection of Functions/Procedures.  These are called ***Methods** when they exist inside a Class definition.\n",
    "* An Object is created from the Class/Template.  Characteristics of objects ...\n",
    "   * an Object is an ***Instance*** of the Class/Template\n",
    "   * there can be many Objects created from the same Class\n",
    "   * each Object contains its own ***Instance Data***\n",
    "   * the data is setup by the ***Constructor***, this is the \"__init__\" method in a Python class\n",
    "   * all methods in the Class/Template become part of the Object, methods are accessed using ***dot notation*** (object.method())\n",
    "* A Python Class allow for the definition of @ decorators, these allow access to instance data without the use of functions ...\n",
    "    * @property decorator (aka getter).  This enables developers to reference/get instance data in a shorthand fashion (object.name versus object.get_name())\n",
    "    * @name.setter decorator (aka setter).  This enables developers to update/set instance data in a shorthand fashion (object.name = \"John\" versus object.set_name(\"John\"))\n",
    "    * observe all instance data (self._name, self._email ...) are prefixed with \"_\", this convention allows setters and getters to work with more natural variable name (name, email ...)"
   ]
  },
  {
   "cell_type": "markdown",
   "metadata": {},
   "source": [
    "## Class and Object Code"
   ]
  },
  {
   "cell_type": "code",
   "execution_count": 10,
   "metadata": {},
   "outputs": [
    {
     "name": "stdout",
     "output_type": "stream",
     "text": [
      "Test 1, find user 3\n",
      "name: \"Joselyn Anda\", id: \"jesa\", psw: \"sha256$MTb...\", gradClass: \"2024\", dob: \"[2006, 1, 15]\", age: \"16\"\n",
      "name: \"Naja Fonseca\", id: \"NajaAFonseca\", psw: \"sha256$sNF...\", gradClass: \"2025\", dob: \"[2007, 4, 13]\", age: \"14\"\n",
      "* name: \"Sean Yeung\", id: \"syeung\", psw: \"sha256$5U3...\", gradClass: \"2000\", dob: \"[1985, 2, 25]\", age: \"31\"\n",
      "name: \"Amitha Sanka\", id: \"amitha-s\", psw: \"sha256$kC5...\", gradClass: \"2023\", dob: \"[2005, 12, 12]\", age: \"17\"\n",
      "Test 2, change user 3\n",
      "name: \"Joselyn Anda\", id: \"jesa\", psw: \"sha256$MTb...\", gradClass: \"2024\", dob: \"[2006, 1, 15]\", age: \"16\"\n",
      "name: \"Naja Fonseca\", id: \"NajaAFonseca\", psw: \"sha256$sNF...\", gradClass: \"2025\", dob: \"[2007, 4, 13]\", age: \"14\"\n",
      "* name: \"Lina Awad\", id: \"linaawad7\", psw: \"sha256$4IM...\", gradClass: \"2024\", dob: \"[2005, 11, 11]\", age: \"16\"\n",
      "name: \"Amitha Sanka\", id: \"amitha-s\", psw: \"sha256$kC5...\", gradClass: \"2023\", dob: \"[2005, 12, 12]\", age: \"17\"\n",
      "Test 3, make a dictionary\n",
      "[{\"_name\": \"Joselyn Anda\", \"_uid\": \"jesa\", \"_password\": \"sha256$MTb8AkwjCQhSSNfq$65ee45beff5e26a0e7f8d0ac442f3fb00b30e1d1e464fda90b8d2c4c8aff5482\", \"_dob\": [2006, 1, 15], \"_age\": 16, \"_gradClass\": 2024}, {\"_name\": \"Naja Fonseca\", \"_uid\": \"NajaAFonseca\", \"_password\": \"sha256$sNF5q05lRl5WBgi8$c49df70e81714fc6d54f23fcfa305af4fa17d1f914d5399b21daa2de9edb77ac\", \"_dob\": [2007, 4, 13], \"_age\": 14, \"_gradClass\": 2025}, {\"_name\": \"Lina Awad\", \"_uid\": \"linaawad7\", \"_password\": \"sha256$4IMO3VhT5Jhdh3vn$70109cb848b78bc1cb09d42788b3bace50749d95e0a28108970ef273c67c2f43\", \"_dob\": [2005, 11, 11], \"_age\": 16, \"_gradClass\": 2024}, {\"_name\": \"Amitha Sanka\", \"_uid\": \"amitha-s\", \"_password\": \"sha256$kC5BoVgZaG3yMoZ9$5e134e4948c67d2aec5e001903bc0ce41a24154e0c9b39d7f5a6274297394fc6\", \"_dob\": [2005, 12, 12], \"_age\": 17, \"_gradClass\": 2023}]\n",
      "Test 4, make a dictionary\n",
      "[{\"_name\": \"Joselyn Anda\", \"_uid\": \"jesa\", \"_password\": \"sha256$MTb8AkwjCQhSSNfq$65ee45beff5e26a0e7f8d0ac442f3fb00b30e1d1e464fda90b8d2c4c8aff5482\", \"_dob\": [2006, 1, 15], \"_age\": 16, \"_gradClass\": 2024}, {\"_name\": \"Naja Fonseca\", \"_uid\": \"NajaAFonseca\", \"_password\": \"sha256$sNF5q05lRl5WBgi8$c49df70e81714fc6d54f23fcfa305af4fa17d1f914d5399b21daa2de9edb77ac\", \"_dob\": [2007, 4, 13], \"_age\": 14, \"_gradClass\": 2025}, {\"_name\": \"Lina Awad\", \"_uid\": \"linaawad7\", \"_password\": \"sha256$4IMO3VhT5Jhdh3vn$70109cb848b78bc1cb09d42788b3bace50749d95e0a28108970ef273c67c2f43\", \"_dob\": [2005, 11, 11], \"_age\": 16, \"_gradClass\": 2024}, {\"_name\": \"Amitha Sanka\", \"_uid\": \"amitha-s\", \"_password\": \"sha256$kC5BoVgZaG3yMoZ9$5e134e4948c67d2aec5e001903bc0ce41a24154e0c9b39d7f5a6274297394fc6\", \"_dob\": [2005, 12, 12], \"_age\": 17, \"_gradClass\": 2023}]\n"
     ]
    }
   ],
   "source": [
    "#\n",
    "# Werkzeug is a collection of libraries that can be used to create a WSGI (Web Server Gateway Interface)\n",
    "# A gateway in necessary as a web server cannot communicate directly with Python.\n",
    "# In this case, imports are focused on generating hash code to protect passwords.\n",
    "from werkzeug.security import generate_password_hash, check_password_hash\n",
    "import json\n",
    "from datetime import date \n",
    "\n",
    "# Define a User Class/Template\n",
    "# -- A User represents the data we want to manage\n",
    "class User:    \n",
    "    # constructor of a User object, initializes the instance variables within object (self)\n",
    "    def __init__(self, name, uid, password, gradClass, dob, age): # name, uid, and password are presets for each user\n",
    "        self._name = name    # variables with self prefix become part of the object, \n",
    "        self._uid = uid\n",
    "        self.set_password(password)\n",
    "        self._dob = dob\n",
    "        self._age = age\n",
    "        self._gradClass = gradClass\n",
    "\n",
    "    # a name getter method, extracts name from object\n",
    "    @property\n",
    "    def name(self):\n",
    "        return self._name\n",
    "    \n",
    "    # a setter function, allows name to be updated after initial object creation\n",
    "    @name.setter\n",
    "    def name(self, name):\n",
    "        self._name = name\n",
    "    \n",
    "    # a getter method, extracts email from object\n",
    "    @property\n",
    "    def uid(self):\n",
    "        return self._uid\n",
    "    \n",
    "    # a setter function, allows name to be updated after initial object creation\n",
    "    @uid.setter\n",
    "    def uid(self, uid):\n",
    "        self._uid = uid\n",
    "        \n",
    "    # check if uid parameter matches user id in object, return boolean\n",
    "    def is_uid(self, uid):\n",
    "        return self._uid == uid\n",
    "    \n",
    "    @property\n",
    "    def password(self):\n",
    "        return self._password[0:10] + \"...\" # because of security only show 1st characters\n",
    "\n",
    "    # update password, this is conventional setter\n",
    "    def set_password(self, password):\n",
    "        \"\"\"Create a hashed password.\"\"\"\n",
    "        self._password = generate_password_hash(password, method='sha256')\n",
    "\n",
    "    # check password parameter versus stored/encrypted password\n",
    "    def is_password(self, password):\n",
    "        \"\"\"Check against hashed password.\"\"\"\n",
    "        result = check_password_hash(self._password, password)\n",
    "        return result\n",
    "    \n",
    "    @property \n",
    "    def gradClass(self):\n",
    "        return self._gradClass\n",
    "\n",
    "    @gradClass.setter\n",
    "    def gradClass(self, gradClass):\n",
    "        self._gradClass = gradClass\n",
    "\n",
    "    \n",
    "    # output content using str(object) in human readable form, uses getter\n",
    "    def __str__(self):\n",
    "        return f'name: \"{self.name}\", id: \"{self.uid}\", psw: \"{self.password}\", gradClass: \"{self.gradClass}\", dob: \"{self.dob}\", age: \"{self.age}\"'\n",
    "\n",
    "    # output command to recreate the object, uses attribute directly\n",
    "    def __repr__(self):\n",
    "        return f'Person(name={self._name}, uid={self._uid}, password={self._password}, gradClass={self._gradClass}, dob={self.dob}, age={self._age})' # return will store the name back to you but not print it\n",
    "\n",
    " # a name getter method, extracts date of birth from object\n",
    "    @property\n",
    "    def dob(self):\n",
    "        return self._dob\n",
    "    \n",
    "    # a setter function, allows date of birth to be updated after initial object creation\n",
    "    @dob.setter\n",
    "    def dob(self, dob):\n",
    "        self._dob = dob\n",
    "\n",
    "    @property \n",
    "    def age(self):\n",
    "        return self._age\n",
    "\n",
    "    @age.setter\n",
    "    def age(self, age):\n",
    "        self._age = age\n",
    "\n",
    "# tester method to print users\n",
    "def tester(users, uid, psw, gradClass, dob, age):\n",
    "    result = None\n",
    "    for user in users:\n",
    "        # test for match in database\n",
    "        if user.uid == uid and user.is_password(psw):  # check for match\n",
    "            print(\"* \", end=\"\")\n",
    "            result = user\n",
    "        # print using __str__ method\n",
    "        print(str(user))\n",
    "    return result\n",
    "        \n",
    "\n",
    "# place tester code inside of special if!  This allows include without tester running\n",
    "if __name__ == \"__main__\": # to see the actual code, it is important bc everything under here is only rn in the file it is in\n",
    "\n",
    "    # define user objects\n",
    "    u1 = User(name='Joselyn Anda', uid='jesa', password='123ellyna', gradClass=2024, dob=[2006, 1, 15], age=16 )\n",
    "    u2 = User(name='Naja Fonseca', uid='NajaAFonseca', password='123gibson', gradClass=2025, dob=[2007, 4, 13], age=14)\n",
    "    u3 = User(name='Sean Yeung', uid='syeung', password='123taylor', gradClass=2000, dob=[1985, 2, 25], age=31)\n",
    "    u4 = User(name='Amitha Sanka', uid='amitha-s', password='123coco', gradClass=2023, dob=[2005, 12, 12], age=17)\n",
    "\n",
    "    # put user objects in list for convenience\n",
    "    users = [u1, u2, u3, u4]\n",
    "\n",
    "    # Find user\n",
    "    print(\"Test 1, find user 3\")\n",
    "    u = tester(users, u3.uid, \"123taylor\", u3.gradClass, u3.dob, u3.age )\n",
    "\n",
    "\n",
    "    # Change user\n",
    "    print(\"Test 2, change user 3\")\n",
    "    u.name = \"Lina Awad\"\n",
    "    u.uid = \"linaawad7\"\n",
    "    u.set_password(\"123thomas\")\n",
    "    u.gradClass = 2024\n",
    "    u.dob = [2005, 11, 11]\n",
    "    u.age = 16\n",
    "    u = tester(users, u.uid, \"123thomas\", u.gradClass, u.dob, u.age)\n",
    "\n",
    "\n",
    "    # Make dictionary\n",
    "    ''' \n",
    "    The __dict__ in Python represents a dictionary or any mapping object that is used to store the attributes of the object. \n",
    "    Every object in Python has an attribute that is denoted by __dict__. \n",
    "    Use the json.dumps() method to convert the list of Users to a JSON string.\n",
    "    '''\n",
    "    print(\"Test 3, make a dictionary\")\n",
    "    json_string = json.dumps([user.__dict__ for user in users]) \n",
    "    print(json_string)\n",
    "\n",
    "    print(\"Test 4, make a dictionary\")\n",
    "    json_string = json.dumps([vars(user) for user in users]) \n",
    "    print(json_string)"
   ]
  },
  {
   "cell_type": "code",
   "execution_count": null,
   "metadata": {},
   "outputs": [],
   "source": []
  },
  {
   "attachments": {},
   "cell_type": "markdown",
   "metadata": {},
   "source": [
    "## Hacks\n",
    "> Add new attributes/variables to the Class.  Make class specific to your CPT work.\n",
    "- Add classOf attribute to define year of graduation\n",
    "    - Add setter and getter for classOf\n",
    "- Add dob attribute to define date of birth\n",
    "    - This will require investigation into Python datetime objects as shown in example code below\n",
    "    - Add setter and getter for dob\n",
    "- Add instance variable for age, make sure if dob changes age changes\n",
    "    - Add getter for age, but don't add/allow setter for age\n",
    "- Update and format tester function to work with changes\n",
    "\n",
    "> Start a class design for each of your own Full Stack CPT sections of your project\n",
    "- Use new `code cell` in this notebook\n",
    "- Define _init_ and self attributes\n",
    "- Define setters and getters\n",
    "- Make a tester"
   ]
  },
  {
   "cell_type": "markdown",
   "metadata": {},
   "source": [
    "## Start Code for Hacks"
   ]
  },
  {
   "cell_type": "code",
   "execution_count": 9,
   "metadata": {},
   "outputs": [
    {
     "name": "stdout",
     "output_type": "stream",
     "text": [
      "16\n"
     ]
    }
   ],
   "source": [
    "from datetime import date\n",
    "\n",
    "def calculate_age(born):\n",
    "    today = date.today()\n",
    "    return today.year - born.year - ((today.month, today.day) < (born.month, born.day))\n",
    "\n",
    "dob = date(2006, 1, 15)\n",
    "age = calculate_age(dob)\n",
    "print(age)"
   ]
  },
  {
   "cell_type": "markdown",
   "metadata": {},
   "source": [
    "1. *init*- \n",
    "2. *self attributes*-\n",
    "3. *setters*-\n",
    "4. *getters*-"
   ]
  },
  {
   "cell_type": "code",
   "execution_count": null,
   "metadata": {},
   "outputs": [],
   "source": []
  },
  {
   "cell_type": "markdown",
   "metadata": {},
   "source": []
  }
 ],
 "metadata": {
  "kernelspec": {
   "display_name": "Python 3.9.12 ('base')",
   "language": "python",
   "name": "python3"
  },
  "language_info": {
   "codemirror_mode": {
    "name": "ipython",
    "version": 3
   },
   "file_extension": ".py",
   "mimetype": "text/x-python",
   "name": "python",
   "nbconvert_exporter": "python",
   "pygments_lexer": "ipython3",
   "version": "3.9.12"
  },
  "orig_nbformat": 4,
  "vscode": {
   "interpreter": {
    "hash": "40d3a090f54c6569ab1632332b64b2c03c39dcf918b08424e98f38b5ae0af88f"
   }
  }
 },
 "nbformat": 4,
 "nbformat_minor": 2
}
