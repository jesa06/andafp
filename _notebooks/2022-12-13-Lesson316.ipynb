{
 "cells": [
  {
   "cell_type": "markdown",
   "metadata": {},
   "source": [
    "# Lesson 8 3.16 Notes and Hacks \n",
    "> Joselyn Anda "
   ]
  },
  {
   "cell_type": "markdown",
   "metadata": {},
   "source": [
    "# 3.16 Simulations\n",
    "- a way to simulate real-world environments to test safety or logistics. It's important to use random numbers, consider biases, and consider if a simulation is the best solution.\n",
    "- useful:\n",
    "    -  because they are safe, inexpensive, repeatable, and accurately model how something would be in the real world\n",
    "    - predicting how something will happen in future based on previously collected data\n",
    "    - model complicated situations to manage key aspects\n",
    "\n",
    "## Why would you make a simulation instead of conducting an experiment?\n",
    "- Safer: Many safety hazards that can be encountered through experimentation can be avoided with simulations. Ex: Designing a boat to travel to an island\n",
    "- Less Expensive: Since real world equipment isn’t needed to make and run a simulation (only computer and programmer needed), this makes simulations an inexpensive way to test something. Ex: Boat example again\n",
    "- Repeatable: Once a simulation is created, it’s easy to repeat it to get different but similar results.\n",
    "- Can Make Predictions: Something that can’t be done with experiments is making predictions. Simulations are useful for this because previous data can be used to predict what will happen in the future. Ex: Global population\n",
    "\n",
    "\n",
    "## Practice\n",
    "- A simulation will always have the same result. <mark>False</mark>\n",
    "- A simulation investigates a phenomenon without real world constraints of time, money, or safety. <mark>True</mark>\n",
    "- A simulation has results which are more accurate than an experiment. <mark>False</mark>\n",
    "- A simulation can model real world events that are not practical for experiments <mark>True</mark>\n",
    "\n",
    "## Example \n",
    "- Skim though the scenario section of this article (it is at the top and includes the diagram). What techniques do you notice he uses? You should consider both ideas from this lesson and from the other college board key ideas.\n",
    "\n",
    "\n",
    "- Some possible answers include:\n",
    "\n",
    "    - Procedure and iteration\n",
    "    - Flowcharts\n",
    "    - Conditionals\n",
    "    - Removing details; like accidents or weather\n",
    "\n",
    "## Summary of 'how' to make a simulation \n",
    "- <mark>Key idea</mark>: when making a simulation you should consider:\n",
    "\n",
    "    - Removing details, which could be done using pseudo-random number generators\n",
    "    - Using other ideas from previous college board lessons; like procedure, flowcharts and conditionals\n",
    "\n",
    "## Multiple Choice Question \n",
    "- The transportation department would like to build an elevated train system that will route through 3 cities. The transportation department wants to administer a simulation of this train system before construction begins. Which of the statements are true?\n",
    "\n",
    "- Which of the following scenarios would be LEAST beneficial to have as a simulation?\n",
    "    - A retail company wants to identify the item which sold the most on their website.\n",
    "\n"
   ]
  },
  {
   "cell_type": "markdown",
   "metadata": {},
   "source": [
    "# Hacks\n",
    "Answer Table\n",
    "| Question | Answer |\n",
    "| --- | ---|  \n",
    "| Joselyn Elise Anda | |\n",
    "| 1. | A | \n",
    "| 2. | A |\n",
    "| 3. What is not a reason to use a pseudo-random number generator when making a simulation? | C: To make the simulation more accurate. Because we use a pseudo-random number generator to mock imperfections from the real world and to save resources |\n",
    "| 4. Which of the following is the least likely factor to be removed from a flight(air traffic) simulation for functionality? | C: Imperfections on aircraft |\n",
    "| 5. What is not (usually) a difference between a experiment and a simulation? | C: Situation considered |\n",
    "| 6. A car company needs to know how safe it's customers will be if it's new car crashes | A: Simulation |\n",
    "| 7: A environmental group wants an accurate guess on the impact the greenhouse effect will have on the environment | B: Experiment/calculation |\n",
    "| 9: A teacher want's to find the average score from a final | B: Experiment/calculation |\n",
    "\n"
   ]
  },
  {
   "cell_type": "markdown",
   "metadata": {},
   "source": [
    "## Extra \n",
    "> Show your understanding. You could make a simple simulation, define vocab, etc.\n",
    "\n",
    "- You want to figure out what would happen when lava is sitting out. Will it stay lava, freeze/harden, or evaporate? In the real world, where are you going to get lava and have the tools necessary to conduct this experiment. We can make a prediction for this simulation.\n",
    "\n",
    "- In this simulation you have lava and tools necessary to handle the lava. Examine the how long the process takes of hardening.\n",
    "\n",
    "- Prediction: Depending on the temperature and environment around, if the temperature is colder and we wait a long time the lava will cool. If the temperature is warmer or hotter and we do not wait a long time, the lava will remain liquid. \n",
    "\n",
    "- Removing details:\n",
    "    - Bad weather (keep a neutral weather)\n",
    "    - Animals\n",
    "    - Manmade things around it \n",
    "    - Human interactions with it \n",
    "\n",
    "- In this simulation you can control the weather, nothing unnaturally made is in the setting. You can control time, and how fast time goes by. \n"
   ]
  }
 ],
 "metadata": {
  "kernelspec": {
   "display_name": "Python 3.9.12 ('base')",
   "language": "python",
   "name": "python3"
  },
  "language_info": {
   "name": "python",
   "version": "3.9.12"
  },
  "orig_nbformat": 4,
  "vscode": {
   "interpreter": {
    "hash": "40d3a090f54c6569ab1632332b64b2c03c39dcf918b08424e98f38b5ae0af88f"
   }
  }
 },
 "nbformat": 4,
 "nbformat_minor": 2
}
