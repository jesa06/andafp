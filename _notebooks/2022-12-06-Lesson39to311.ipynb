{
 "cells": [
  {
   "cell_type": "markdown",
   "metadata": {},
   "source": [
    "# Lesson 5 3.9-3.11 Notes and Hacks \n",
    "> Joselyn Anda "
   ]
  },
  {
   "cell_type": "markdown",
   "metadata": {},
   "source": [
    "# 3.9 Algorithms\n",
    "\n",
    "## Essential Knowledge\n",
    "- Algorithms can be written in different ways and still accomplish the same tasks\n",
    "- Algorithms that appear similar can yield different side effects or results\n",
    "- Some conditional statements can be written as equivalent Boolean expressions\n",
    "- Some Boolean expressions can be written as equivalent conditional statements\n",
    "- Different algorithms can be developed or used to solve the same problem\n",
    "- Algorithms can be created from an idea, by combining existing algorithms, or by modifying existing algorithms.\n",
    "- Knowledge of existing algorithms can help in constructing new ones. Some existing algorithms include: Determining the maximum or minimum value of two or more numbers. Computing the sum or average of two or more numbers. Identifying if an integer is or is not evenly divisible by another integer. Determining a robot’s path through a maze.\n",
    "- Using existing correct algorithms as building blocks for constructing another algorithm has benefits such as reducing development time, reduce testing, and simplifying the identification of errors.\n",
    "\n",
    "\n",
    "\n",
    "### Big Ideas and Vocab\n",
    "- Small changes/mistakes can have a big impact on the result\n",
    "- There is often more than one way to achieve the same result\n",
    "- *Algorithm*: A process or set of rules to be followed in calculations or other problem solving operations, especially by a computer.\n",
    "- *Sequential Search (Inefficient search)*: compare each number to the number you want to find until you get to the number you want to find\n",
    "- *Binary Search (Efficient search)*: repeats the process of finding a median and evaluating \n",
    "- *Boolean Expressions*: expression that evaluates to either true or false\n",
    "- *Truth Tables*: displays the logical operations on input signals in a table format, identifies all possible input combinations and the output for each\n",
    "\n",
    "## Comparing Algorithms\n",
    "- The algorithms below are to sum the odd numbers from 1 to 9 (1+3+5+7+9). Do they each work as intended?\n",
    "\n",
    "1. sum⟵1\n",
    "    - counter⟵3\n",
    "    - REPEAT 4 TIMES\n",
    "    - sum⟵sum + counter\n",
    "    - counter⟵counter + 2 - DISPLAY sum\n",
    "2. sum⟵0\n",
    "    - counter⟵9\n",
    "    - REPEAT UNTIL counter < 1\n",
    "    - sum⟵sum + counter\n",
    "    - counter⟵counter - 2 - DISPLAY sum\n",
    "- Why is it important to understand that algorithms can be written in different ways and still accomplish the same tasks?\n",
    "Both of them work but algorithms can differ but achieve the same result\n",
    "\n",
    "### Practice \n",
    "- Uses selection and/or iteration to determine the cost of one item in the store is correct\n",
    "\n",
    "- The display at the store says the following:\n",
    "\n",
    "- All Green Tag Items - 25% off All Red Tag Items - 60% off\n",
    "\n",
    "- Suppose that the tax on all items is 10%\n",
    "\n",
    "- Algorithm A:\n",
    "\n",
    "    - DISPLAY (“What is the cost of the item?”)\n",
    "    - cost←INPUT ()\n",
    "    - IF (greenTag)\n",
    "    - {\n",
    "    - cost ← 0.75 * Cost\n",
    "    - }\n",
    "    - IF (redTag)\n",
    "    - {\n",
    "    - cost ← 0.40 * Cost\n",
    "    - }\n",
    "    - cost ← 1.10 * cost\n"
   ]
  },
  {
   "cell_type": "code",
   "execution_count": 1,
   "metadata": {},
   "outputs": [
    {
     "name": "stdout",
     "output_type": "stream",
     "text": [
      "What did you roll on the dice?\n",
      "Nice roll!\n"
     ]
    }
   ],
   "source": [
    "print(\"What did you roll on the dice?\")\n",
    "diceRoll = int(input())\n",
    "if diceRoll >= 4:\n",
    "    print(\"Nice roll!\")\n",
    "if diceRoll >= 2 and diceRoll < 4:\n",
    "    print(\"Meh... You can do better\")\n",
    "if diceRoll < 2:\n",
    "    print(\"That was not a great roll!\")"
   ]
  },
  {
   "cell_type": "markdown",
   "metadata": {},
   "source": [
    "# 3.11 Binary and Sequential Search\n",
    "## Learning Objective:\n",
    "- For binary search algorithms\n",
    "- Determine the number of iterations required to find a value in a data set.\n",
    "- Explain the requirements necessary to complete a binary search.\n",
    "- The binary search algorithm starts at the middle of a sorted data set of numbers and eliminates half of the data; this process repeats until the desired value is found or all elements have been eliminated.\n",
    "- Data must be in sorted order to use the binary search algorithm\n",
    "- A binary search is often more efficient than sequential/linear search when applied to sorted data.\n",
    "\n",
    "## Essential Knowledge\n",
    "- Sequential Search (Inefficient search): compare each number to the number you want to find until you get to the number you want to find\n",
    "- Binary Search (Efficient search): repeats the process of finding a median and evaluating \n",
    "- Both most be in either ascending or descending order to work \n",
    "\n",
    "### Practice \n",
    "1. How many checks would it take to print out 20 using sequential search\n",
    "\n",
    "[1, 3, 4, 5, 7, 8, 10 ,20]\n",
    "7, because there are 7 other numbers\n",
    "\n",
    "2. How many checks would it take to print out 30 using binary search\n",
    "\n",
    "[1, 2, 3, 4, 6, 8, 9, 11, 30]\n",
    "1, because it is in the middle "
   ]
  },
  {
   "cell_type": "markdown",
   "metadata": {},
   "source": [
    "# Hacks\n",
    "1. Write this Boolean statement in the form of a conditional (if/else) statement: stayInside⟵((isCold) OR (isRaining))\n"
   ]
  },
  {
   "cell_type": "code",
   "execution_count": null,
   "metadata": {},
   "outputs": [],
   "source": [
    "IF (isCold or isRaining) {\n",
    "    stayInside <- True\n",
    "}\n",
    "ELSE {\n",
    "    stayInside <- False\n",
    "}"
   ]
  },
  {
   "cell_type": "markdown",
   "metadata": {},
   "source": [
    "2. Create an algorithm that uses selection and/or iteration that will represent one player’s complete turn.\n",
    "\n",
    "    During a turn, each player gets 4 attempts/chances to get the greatest number possible.\n",
    "\n",
    "    During each attempt, the player will use a random number generator to select a random number from 1 to 10.\n",
    "\n",
    "    After they have had 4 chances, their score is the greatest number they received from the random number generator, and their turn is over.\n"
   ]
  },
  {
   "cell_type": "code",
   "execution_count": 31,
   "metadata": {},
   "outputs": [
    {
     "name": "stdout",
     "output_type": "stream",
     "text": [
      "[1, 3, 5, 6]\n",
      "Maximum score: 6\n"
     ]
    }
   ],
   "source": [
    "import random\n",
    "\n",
    "randomNumber = []\n",
    "i = 1 \n",
    "while i <= 4:\n",
    "    num = random.randint(0,10) \n",
    "    randomNumber.append(num)\n",
    "    i = i +1 \n",
    "\n",
    "def sort(randomNumber):\n",
    "    for index in range(1,len(randomNumber)): # repeats through length of the array\n",
    "        value = randomNumber[index]\n",
    "        i = index - 1\n",
    "        while i >= 0:\n",
    "            if value < randomNumber[i]:\n",
    "                randomNumber[i+1] = randomNumber[i] # shift number in slot i to the right\n",
    "                randomNumber[i] = value # shift value left into slot i\n",
    "                i = i - 1\n",
    "            else:\n",
    "                break\n",
    "\n",
    "sort(randomNumber)\n",
    "print(randomNumber)\n",
    "\n",
    "\n",
    "# print(\"Length\", len(randomNumber))\n",
    "print(\"Maximum score:\", randomNumber[len(randomNumber)-1])"
   ]
  },
  {
   "cell_type": "markdown",
   "metadata": {},
   "source": [
    "3. Create an algorithm that will allow the arrow to reach the gray square:"
   ]
  },
  {
   "cell_type": "code",
   "execution_count": null,
   "metadata": {},
   "outputs": [],
   "source": [
    "Repeat until reach gray square:\n",
    "\n",
    "If (can_moveForward) \n",
    "    Move_Forward\n",
    "Else (can_moveRight) {\n",
    "    Rotate_Right\n",
    "    Move_Forward\n",
    "}"
   ]
  },
  {
   "cell_type": "markdown",
   "metadata": {},
   "source": [
    "4. Make a binary search tree of different the list [1,2,3,4,6,9,11,69]\n",
    "\n",
    "5. Explain thoroughly how to find the number 69 in the list above (use key words)\n",
    "- To find 69 in the list above, using sequential search, you would just iterate through the list, looking at each element until it matches 69. This would take 7 iterations. \n",
    "- In the binary search you would add the first index and last index and divide that by 2, and that quotient would be the position of the median. If that is not 69, then you ignore it, and examine the left and the right of that index, repeat that process until you list all of the elements. "
   ]
  },
  {
   "cell_type": "markdown",
   "metadata": {},
   "source": [
    "6. Make a diagram explaining how you found the list (not tree, include equation)\n",
    "- I do not really understand this question. \n",
    "- But I would do...\n"
   ]
  },
  {
   "cell_type": "code",
   "execution_count": null,
   "metadata": {},
   "outputs": [],
   "source": [
    "newIndex = (1+arr[len(arr)-1])/2"
   ]
  },
  {
   "cell_type": "markdown",
   "metadata": {},
   "source": [
    "- Repeating this equation until it lists out each element\n",
    "7. Put this list of strings in a order that can be used for binary search [“store”,”Market”,”Walmart”,Target”,”Ralphs”]\n",
    "sortedList = [\"Market\", \"Ralphs\", \"store\", \"Target\", \"Walmart]"
   ]
  },
  {
   "cell_type": "markdown",
   "metadata": {},
   "source": [
    "8. Explain why Binary Search is more efficient than Sequential Search\n",
    "- Binary search is more efficient than Sequential search because it examines from midpoints of the lists over certain intervals of indices instead of looking at each element and comparing it to the target.\n",
    "- Binary search is more efficient than the linear search in the case of large data sets.\n",
    "\n"
   ]
  },
  {
   "cell_type": "markdown",
   "metadata": {},
   "source": [
    "9. [64,36,16,11,9] Explain which number you are finding, how many check it would take, and make a binary search tree"
   ]
  }
 ],
 "metadata": {
  "kernelspec": {
   "display_name": "Python 3.9.12 ('base')",
   "language": "python",
   "name": "python3"
  },
  "language_info": {
   "codemirror_mode": {
    "name": "ipython",
    "version": 3
   },
   "file_extension": ".py",
   "mimetype": "text/x-python",
   "name": "python",
   "nbconvert_exporter": "python",
   "pygments_lexer": "ipython3",
   "version": "3.9.12"
  },
  "orig_nbformat": 4,
  "vscode": {
   "interpreter": {
    "hash": "40d3a090f54c6569ab1632332b64b2c03c39dcf918b08424e98f38b5ae0af88f"
   }
  }
 },
 "nbformat": 4,
 "nbformat_minor": 2
}
