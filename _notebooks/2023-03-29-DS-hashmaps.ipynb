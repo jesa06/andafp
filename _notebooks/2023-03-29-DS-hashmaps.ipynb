{
 "cells": [
  {
   "attachments": {},
   "cell_type": "markdown",
   "metadata": {},
   "source": [
    "#  Data Structures- Hashmaps, Sets, Hash Tables, Hashing and Collisions\n",
    "> Observing hashmaps with python dictionaries\n",
    "- toc: true\n",
    "- image: /images/python.png\n",
    "- categories: []\n",
    "- type: pbl\n",
    "- week: 28"
   ]
  },
  {
   "attachments": {},
   "cell_type": "markdown",
   "metadata": {},
   "source": [
    "## What is a Hashtable/Hashmap?\n",
    "\n",
    "> A hashtable is a data structure with a collection of key-value pairs, where each key maps to a value, and the keys must be unique and hashable.\n",
    "\n",
    "- In Python there is a built in hashtable known as a **dictionary**.\n",
    "\n",
    "> The primary purpose of a hashtable is to provide efficient lookup, insertion, and deletion operations. When an element is to be inserted into the hashtable, a hash function is used to map the key to a specific index in the underlying array that is used to store the key-value pairs. The value is then stored at that index. When searching for a value, the hash function is used again to find the index where the value is stored.\n",
    "\n",
    "> The key advantage of a hashtable over other data structures like arrays and linked lists is its average-case time complexity for lookup, insertion, and deletion operations.\n",
    "\n",
    "- The typical time complexity of a hashtable is **O(1)**. \n",
    "\n",
    "- Looking for a value in a dictionary would have a time complexity of O(1), because each key only has 1 value. If you know what the key is you will know what the value is.\n"
   ]
  },
  {
   "attachments": {},
   "cell_type": "markdown",
   "metadata": {},
   "source": [
    "## What is Hashing and Collision?\n",
    "\n",
    "> Hashing is the process of mapping a given key to a value in a hash table or hashmap, using a hash function. The hash function takes the key as input and produces a hash value or hash code, which is then used to determine the index in the underlying array where the value is stored. The purpose of hashing is to provide a quick and efficient way to access data, by eliminating the need to search through an entire data structure to find a value.\n",
    "\n",
    "> However, it is possible for two different keys to map to the same hash value, resulting in a collision. When a collision occurs, there are different ways to resolve it, depending on the collision resolution strategy used.\n",
    "\n",
    "- duplicate key = collision \n",
    "- no need to hash in Python dictionary\n",
    "\n",
    "> Python's dictionary implementation is optimized to handle collisions efficiently, and the performance of the dictionary is generally very good, even in the presence of collisions. However, if the number of collisions is very high, the performance of the dictionary can degrade, so it is important to choose a good hash function that minimizes collisions when designing a Python dictionary.\n",
    "\n",
    "## What is a Set?"
   ]
  },
  {
   "cell_type": "code",
   "execution_count": 1,
   "metadata": {},
   "outputs": [
    {
     "name": "stdout",
     "output_type": "stream",
     "text": [
      "{1, 2, 3}\n"
     ]
    }
   ],
   "source": [
    "# Creating a set using set() function\n",
    "my_set = set([1, 2, 3, 2, 1])\n",
    "print(my_set)  \n",
    "\n",
    "# What do you notice in the output?\n",
    "# In the output I notice it prints the outputs only once so there is no repeats.\n",
    "# In the output I notice it prints in ascending order or in order that it was originally in, without repeats \n",
    "\n",
    "# Why do you think Sets are in the same tech talk as Hashmaps/Hashtables?\n",
    "# I think sets are in the same tech talk as Hashmaps/Hashtables because dictionaries also cannot have duplicates.\n",
    "#"
   ]
  },
  {
   "attachments": {},
   "cell_type": "markdown",
   "metadata": {},
   "source": [
    "## Dictionary Example\n",
    "\n",
    "Below are just some basic features of a dictionary. As always, documentation is always the main source for all the full capablilties. "
   ]
  },
  {
   "cell_type": "markdown",
   "metadata": {},
   "source": [
    "#### Notes\n",
    "- list and dictionary within the dictionary \n",
    "- strings and integers"
   ]
  },
  {
   "cell_type": "code",
   "execution_count": 2,
   "metadata": {},
   "outputs": [
    {
     "name": "stdout",
     "output_type": "stream",
     "text": [
      "{'title': 'Lover', 'artist': 'Taylor Swift', 'year': 2019, 'genre': ['Pop', 'Synth-pop'], 'tracks': {1: 'I Forgot That You Existed', 2: 'Cruel Summer', 3: 'Lover', 4: 'The Man', 5: 'The Archer', 6: 'I Think He Knows', 7: 'Miss Americana & The Heartbreak Prince', 8: 'Paper Rings', 9: 'Cornelia Street', 10: 'Death By A Thousand Cuts', 11: 'London Boy', 12: \"Soon You'll Get Better (feat. Dixie Chicks)\", 13: 'False God', 14: 'You Need To Calm Down', 15: 'Afterglow', 16: 'Me! (feat. Brendon Urie of Panic! At The Disco)', 17: \"It's Nice To Have A Friend\", 18: 'Daylight'}}\n"
     ]
    }
   ],
   "source": [
    "# Creating a dictionary with information about the album \"Lover\"\n",
    "lover_album = {\n",
    "    \"title\": \"Lover\",\n",
    "    \"artist\": \"Taylor Swift\",\n",
    "    \"year\": 2019,\n",
    "    \"genre\": [\"Pop\", \"Synth-pop\"],\n",
    "    \"tracks\": {\n",
    "        1: \"I Forgot That You Existed\",\n",
    "        2: \"Cruel Summer\",\n",
    "        3: \"Lover\",\n",
    "        4: \"The Man\",\n",
    "        5: \"The Archer\",\n",
    "        6: \"I Think He Knows\",\n",
    "        7: \"Miss Americana & The Heartbreak Prince\",\n",
    "        8: \"Paper Rings\",\n",
    "        9: \"Cornelia Street\",\n",
    "        10: \"Death By A Thousand Cuts\",\n",
    "        11: \"London Boy\",\n",
    "        12: \"Soon You'll Get Better (feat. Dixie Chicks)\",\n",
    "        13: \"False God\",\n",
    "        14: \"You Need To Calm Down\",\n",
    "        15: \"Afterglow\",\n",
    "        16: \"Me! (feat. Brendon Urie of Panic! At The Disco)\",\n",
    "        17: \"It's Nice To Have A Friend\",\n",
    "        18: \"Daylight\"\n",
    "    }\n",
    "}\n",
    "\n",
    "# What data structures do you see?\n",
    "# list and dictionary\n",
    "# integers and strings\n",
    "\n",
    "# Printing the dictionary\n",
    "print(lover_album)"
   ]
  },
  {
   "cell_type": "code",
   "execution_count": 3,
   "metadata": {},
   "outputs": [
    {
     "name": "stdout",
     "output_type": "stream",
     "text": [
      "{1: 'I Forgot That You Existed', 2: 'Cruel Summer', 3: 'Lover', 4: 'The Man', 5: 'The Archer', 6: 'I Think He Knows', 7: 'Miss Americana & The Heartbreak Prince', 8: 'Paper Rings', 9: 'Cornelia Street', 10: 'Death By A Thousand Cuts', 11: 'London Boy', 12: \"Soon You'll Get Better (feat. Dixie Chicks)\", 13: 'False God', 14: 'You Need To Calm Down', 15: 'Afterglow', 16: 'Me! (feat. Brendon Urie of Panic! At The Disco)', 17: \"It's Nice To Have A Friend\", 18: 'Daylight'}\n",
      "{1: 'I Forgot That You Existed', 2: 'Cruel Summer', 3: 'Lover', 4: 'The Man', 5: 'The Archer', 6: 'I Think He Knows', 7: 'Miss Americana & The Heartbreak Prince', 8: 'Paper Rings', 9: 'Cornelia Street', 10: 'Death By A Thousand Cuts', 11: 'London Boy', 12: \"Soon You'll Get Better (feat. Dixie Chicks)\", 13: 'False God', 14: 'You Need To Calm Down', 15: 'Afterglow', 16: 'Me! (feat. Brendon Urie of Panic! At The Disco)', 17: \"It's Nice To Have A Friend\", 18: 'Daylight'}\n"
     ]
    }
   ],
   "source": [
    "# Retrieve value from dictionary with key\n",
    "print(lover_album.get('tracks'))\n",
    "# or\n",
    "print(lover_album['tracks'])"
   ]
  },
  {
   "cell_type": "code",
   "execution_count": 4,
   "metadata": {},
   "outputs": [
    {
     "name": "stdout",
     "output_type": "stream",
     "text": [
      "The Man\n",
      "The Man\n"
     ]
    }
   ],
   "source": [
    "# Retrieve value from a dictionary inside a dictionary\n",
    "print(lover_album.get('tracks')[4])\n",
    "# or\n",
    "print(lover_album['tracks'][4])"
   ]
  },
  {
   "cell_type": "code",
   "execution_count": 17,
   "metadata": {},
   "outputs": [
    {
     "name": "stdout",
     "output_type": "stream",
     "text": [
      "{'Jack Antonoff', 'Frank Dukes', 'Louis Bell', 'Joel Little', 'Taylor Swift'}\n"
     ]
    }
   ],
   "source": [
    "# adding a value with a new key\n",
    "lover_album[\"producer\"] = ['Taylor Swift', 'Jack Antonoff', 'Joel Little', 'Taylor Swift', 'Louis Bell', 'Frank Dukes']\n",
    "# set equal to data type \n",
    "\n",
    "\n",
    "# What can you change to make sure there are no duplicate producers?\n",
    "# use a set to print the data without duplicates\n",
    "#\n",
    "\n",
    "# Printing the dictionary\n",
    "#print(lover_album)\n",
    "\n",
    "albumSet = set(lover_album[\"producer\"])\n",
    "print(albumSet)"
   ]
  },
  {
   "cell_type": "code",
   "execution_count": 8,
   "metadata": {},
   "outputs": [
    {
     "name": "stdout",
     "output_type": "stream",
     "text": [
      "{'title': 'Lover', 'artist': 'Taylor Swift', 'year': 2019, 'genre': ['Pop', 'Synth-pop'], 'tracks': {1: 'I Forgot That You Existed', 2: 'Cruel Summer', 3: 'Lover', 4: 'The Man', 5: 'The Archer', 6: 'I Think He Knows', 7: 'Miss Americana & The Heartbreak Prince', 8: 'Paper Rings', 9: 'Cornelia Street', 10: 'Death By A Thousand Cuts', 11: 'London Boy', 12: \"Soon You'll Get Better (feat. Dixie Chicks)\", 13: 'False God', 14: 'You Need To Calm Down', 15: 'Afterglow', 16: 'Me! (feat. Brendon Urie of Panic! At The Disco)', 17: \"It's Nice To Have A Friend\", 18: 'Daylight', 19: 'All Of The Girls You Loved Before'}, 'producer': ['Taylor Swift', 'Jack Antonoff', 'Joel Little', 'Taylor Swift', 'Louis Bell', 'Frank Dukes']}\n"
     ]
    }
   ],
   "source": [
    "# Adding a an key-value pair to an existing key \n",
    "lover_album[\"tracks\"].update({19: \"All Of The Girls You Loved Before\"})\n",
    "\n",
    "# How would you add an additional genre to the dictionary, like electropop? \n",
    "# You can add a list within the dictionary\n",
    "# \n",
    "\n",
    "# Printing the dictionary\n",
    "print(lover_album)"
   ]
  },
  {
   "cell_type": "code",
   "execution_count": 30,
   "metadata": {},
   "outputs": [
    {
     "name": "stdout",
     "output_type": "stream",
     "text": [
      "{'Pop', 'Synth-pop', 'electropop', 'R&B'}\n"
     ]
    }
   ],
   "source": [
    "# lover_album[\"genre\"].append(\"R&B\")\n",
    "lover_album[\"genre\"].append(\"electropop\")\n",
    "# print(lover_album[\"genre\"])\n",
    "\n",
    "\n",
    "albumSet = set(lover_album[\"genre\"])\n",
    "print(albumSet)"
   ]
  },
  {
   "cell_type": "code",
   "execution_count": 10,
   "metadata": {},
   "outputs": [
    {
     "name": "stdout",
     "output_type": "stream",
     "text": [
      "title: Lover\n",
      "artist: Taylor Swift\n",
      "year: 2019\n",
      "genre: ['Pop', 'Synth-pop']\n",
      "tracks: {1: 'I Forgot That You Existed', 2: 'Cruel Summer', 3: 'Lover', 4: 'The Man', 5: 'The Archer', 6: 'I Think He Knows', 7: 'Miss Americana & The Heartbreak Prince', 8: 'Paper Rings', 9: 'Cornelia Street', 10: 'Death By A Thousand Cuts', 11: 'London Boy', 12: \"Soon You'll Get Better (feat. Dixie Chicks)\", 13: 'False God', 14: 'You Need To Calm Down', 15: 'Afterglow', 16: 'Me! (feat. Brendon Urie of Panic! At The Disco)', 17: \"It's Nice To Have A Friend\", 18: 'Daylight', 19: 'All Of The Girls You Loved Before'}\n",
      "producer: ['Taylor Swift', 'Jack Antonoff', 'Joel Little', 'Taylor Swift', 'Louis Bell', 'Frank Dukes']\n"
     ]
    }
   ],
   "source": [
    "# Print lover_album in more readable format\n",
    "for k,v in lover_album.items(): # .items() used to iterate using a for loop for key and value\n",
    "    print(str(k) + \": \" + str(v))  # k and v variables for keys and values\n",
    "\n",
    "# Write your own code to print tracks in readable format\n",
    "# This can be rewritten in a table so it is a readable format\n",
    "# "
   ]
  },
  {
   "cell_type": "code",
   "execution_count": 14,
   "metadata": {},
   "outputs": [
    {
     "name": "stdout",
     "output_type": "stream",
     "text": [
      "['Taylor Swift', 'Jack Antonoff', 'Joel Little', 'Taylor Swift', 'Louis Bell', 'Frank Dukes']\n"
     ]
    }
   ],
   "source": [
    "# Using conditionals to retrieve a random song\n",
    "def search():\n",
    "    search = input(\"What would you like to know about the album?\")\n",
    "    if lover_album.get(search.lower()) == None:\n",
    "        print(\"Invalid Search\")\n",
    "    else:\n",
    "        print(lover_album.get(search.lower()))\n",
    "\n",
    "search()\n",
    "\n",
    "# This is a very basic code segment, how can you improve upon this code?\n",
    "# I can improve this code by implementing garbage checking, or more simply, adding an algorithm that is able to identify if a user's song might be a different album's, \n",
    "# so using different dictionaries and making it so that the algorithm identifies which kind of album the user's input song is from.\n"
   ]
  },
  {
   "attachments": {},
   "cell_type": "markdown",
   "metadata": {},
   "source": [
    "## Hacks\n",
    "\n",
    "- Answer *ALL* questions in the code segments\n",
    "- Create a diagram or comparison illustration (Canva).\n",
    "    - What are the pro and cons of using this data structure (dictionary)? \n",
    "    - Dictionary vs List    \n",
    "- Expand upon the code given to you, possible improvements in comments\n",
    "\n",
    "\n",
    "- For Mr. Yeung's class: Justify your favorite Taylor Swift song, answer may effect seed\n",
    "> Blank Space, You Belong With Me, Wildest Dreams\n",
    "- All of these songs communicate Taylor's failed relationships and how men literally suck. It shows how she is a hopeless romantic and honestly I think I am too. When I was younger and first heard these songs I never really understood them to the extend I did now. Not saying that I have been in love but I have experienced things that confirm her lyrics to be true, how \"boys only want love when it's torture\", or how \"she doesn't get your humor like I do\" and \"I know you better than that. Hey, what you doing with a girl like that?\" GUYS LITERALLY SUCK MR.YEUNG. TAYLOR SWIFT GETS ME THROUGH STUFF. Like a girl could have it all, be so well-rounded: smart, funny, has passions and goals and be decently pretty, but a guy would throw all of that away to be with a really pretty girl with much less attributes (no offense to her). But all throughout these failed relationships Taylor Swift was able to bounce back and keep growing. She did not lose sight of herself or change herself for these useless men. I hope I can do the same. "
   ]
  },
  {
   "cell_type": "markdown",
   "metadata": {},
   "source": [
    "Build your own album showing features of a python dictionary\n"
   ]
  },
  {
   "cell_type": "code",
   "execution_count": 2,
   "metadata": {},
   "outputs": [
    {
     "name": "stdout",
     "output_type": "stream",
     "text": [
      "{'title': 'SOUR', 'artist': 'Olivia Rodrigo', 'year': 2021, 'genre': ['Pop', 'Alternative-indie'], 'tracks': {1: 'brutal', 2: 'traitor', 3: 'drivers license', 4: '1 step forward, 3 steps back', 5: 'deja vu', 6: 'good 4 u', 7: 'enough for you', 8: 'happier', 9: 'jealousy, jealousy', 10: 'favorite crime', 11: 'hope ur ok'}, 'duration': {1: '2:23', 2: '3:49', 3: '4:02', 4: '2:43', 5: '3:35', 6: '2:58', 7: '3:22', 8: '2:55', 9: '2:53', 10: '2:32', 11: '3:29'}}\n"
     ]
    }
   ],
   "source": [
    "SOUR_album = {\n",
    "    \"title\": \"SOUR\",\n",
    "    \"artist\": \"Olivia Rodrigo\",\n",
    "    \"year\": 2021,\n",
    "    \"genre\": [\"Pop\", \"Alternative-indie\"],\n",
    "    \"tracks\": {\n",
    "        1: \"brutal\",\n",
    "        2: \"traitor\",\n",
    "        3: \"drivers license\",\n",
    "        4: \"1 step forward, 3 steps back\",\n",
    "        5: \"deja vu\",\n",
    "        6: \"good 4 u\",\n",
    "        7: \"enough for you\",\n",
    "        8: \"happier\",\n",
    "        9: \"jealousy, jealousy\",\n",
    "        10: \"favorite crime\",\n",
    "        11: \"hope ur ok\",\n",
    "    },\n",
    "    \"duration\": {\n",
    "        1: \"2:23\",\n",
    "        2: \"3:49\",\n",
    "        3: \"4:02\",\n",
    "        4: \"2:43\",\n",
    "        5: \"3:35\",\n",
    "        6: \"2:58\",\n",
    "        7: \"3:22\",\n",
    "        8: \"2:55\",\n",
    "        9: \"2:53\",\n",
    "        10: \"2:32\",\n",
    "        11: \"3:29\",\n",
    "    }\n",
    "}\n",
    "\n",
    "print(SOUR_album)\n"
   ]
  },
  {
   "cell_type": "code",
   "execution_count": 3,
   "metadata": {},
   "outputs": [
    {
     "ename": "TypeError",
     "evalue": "'int' object is not iterable",
     "output_type": "error",
     "traceback": [
      "\u001b[0;31m---------------------------------------------------------------------------\u001b[0m",
      "\u001b[0;31mTypeError\u001b[0m                                 Traceback (most recent call last)",
      "\u001b[1;32m/Users/jesa_1/vscode/andafp-1/_notebooks/2023-03-29-DS-hashmaps.ipynb Cell 18\u001b[0m in \u001b[0;36m<cell line: 43>\u001b[0;34m()\u001b[0m\n\u001b[1;32m      <a href='vscode-notebook-cell:/Users/jesa_1/vscode/andafp-1/_notebooks/2023-03-29-DS-hashmaps.ipynb#X23sZmlsZQ%3D%3D?line=3'>4</a>\u001b[0m table \u001b[39m=\u001b[39m {\n\u001b[1;32m      <a href='vscode-notebook-cell:/Users/jesa_1/vscode/andafp-1/_notebooks/2023-03-29-DS-hashmaps.ipynb#X23sZmlsZQ%3D%3D?line=4'>5</a>\u001b[0m     \u001b[39m\"\u001b[39m\u001b[39mtitle\u001b[39m\u001b[39m\"\u001b[39m: \u001b[39m\"\u001b[39m\u001b[39mSOUR\u001b[39m\u001b[39m\"\u001b[39m,\n\u001b[1;32m      <a href='vscode-notebook-cell:/Users/jesa_1/vscode/andafp-1/_notebooks/2023-03-29-DS-hashmaps.ipynb#X23sZmlsZQ%3D%3D?line=5'>6</a>\u001b[0m     \u001b[39m\"\u001b[39m\u001b[39martist\u001b[39m\u001b[39m\"\u001b[39m: \u001b[39m\"\u001b[39m\u001b[39mOlivia Rodrigo\u001b[39m\u001b[39m\"\u001b[39m,\n\u001b[0;32m   (...)\u001b[0m\n\u001b[1;32m     <a href='vscode-notebook-cell:/Users/jesa_1/vscode/andafp-1/_notebooks/2023-03-29-DS-hashmaps.ipynb#X23sZmlsZQ%3D%3D?line=33'>34</a>\u001b[0m     }\n\u001b[1;32m     <a href='vscode-notebook-cell:/Users/jesa_1/vscode/andafp-1/_notebooks/2023-03-29-DS-hashmaps.ipynb#X23sZmlsZQ%3D%3D?line=34'>35</a>\u001b[0m }\n\u001b[1;32m     <a href='vscode-notebook-cell:/Users/jesa_1/vscode/andafp-1/_notebooks/2023-03-29-DS-hashmaps.ipynb#X23sZmlsZQ%3D%3D?line=35'>36</a>\u001b[0m \u001b[39m# Select all rows from the \"Trips\" table\u001b[39;00m\n\u001b[1;32m     <a href='vscode-notebook-cell:/Users/jesa_1/vscode/andafp-1/_notebooks/2023-03-29-DS-hashmaps.ipynb#X23sZmlsZQ%3D%3D?line=36'>37</a>\u001b[0m \u001b[39m# headers = [\"Song #\", \"title\", \"Artist\", \"Duration\"]\u001b[39;00m\n\u001b[1;32m     <a href='vscode-notebook-cell:/Users/jesa_1/vscode/andafp-1/_notebooks/2023-03-29-DS-hashmaps.ipynb#X23sZmlsZQ%3D%3D?line=37'>38</a>\u001b[0m \n\u001b[0;32m   (...)\u001b[0m\n\u001b[1;32m     <a href='vscode-notebook-cell:/Users/jesa_1/vscode/andafp-1/_notebooks/2023-03-29-DS-hashmaps.ipynb#X23sZmlsZQ%3D%3D?line=40'>41</a>\u001b[0m \u001b[39m# Print the table\u001b[39;00m\n\u001b[1;32m     <a href='vscode-notebook-cell:/Users/jesa_1/vscode/andafp-1/_notebooks/2023-03-29-DS-hashmaps.ipynb#X23sZmlsZQ%3D%3D?line=41'>42</a>\u001b[0m \u001b[39m# print(tabulate(SOUR_album.items(), headers = headers))\u001b[39;00m\n\u001b[0;32m---> <a href='vscode-notebook-cell:/Users/jesa_1/vscode/andafp-1/_notebooks/2023-03-29-DS-hashmaps.ipynb#X23sZmlsZQ%3D%3D?line=42'>43</a>\u001b[0m \u001b[39mprint\u001b[39m(tabulate(table))\n",
      "File \u001b[0;32m/opt/anaconda3/lib/python3.9/site-packages/tabulate.py:1528\u001b[0m, in \u001b[0;36mtabulate\u001b[0;34m(tabular_data, headers, tablefmt, floatfmt, numalign, stralign, missingval, showindex, disable_numparse, colalign)\u001b[0m\n\u001b[1;32m   1526\u001b[0m \u001b[39mif\u001b[39;00m tabular_data \u001b[39mis\u001b[39;00m \u001b[39mNone\u001b[39;00m:\n\u001b[1;32m   1527\u001b[0m     tabular_data \u001b[39m=\u001b[39m []\n\u001b[0;32m-> 1528\u001b[0m list_of_lists, headers \u001b[39m=\u001b[39m _normalize_tabular_data(\n\u001b[1;32m   1529\u001b[0m     tabular_data, headers, showindex\u001b[39m=\u001b[39;49mshowindex\n\u001b[1;32m   1530\u001b[0m )\n\u001b[1;32m   1532\u001b[0m \u001b[39m# empty values in the first column of RST tables should be escaped (issue #82)\u001b[39;00m\n\u001b[1;32m   1533\u001b[0m \u001b[39m# \"\" should be escaped as \"\\\\ \" or \"..\"\u001b[39;00m\n\u001b[1;32m   1534\u001b[0m \u001b[39mif\u001b[39;00m tablefmt \u001b[39m==\u001b[39m \u001b[39m\"\u001b[39m\u001b[39mrst\u001b[39m\u001b[39m\"\u001b[39m:\n",
      "File \u001b[0;32m/opt/anaconda3/lib/python3.9/site-packages/tabulate.py:1089\u001b[0m, in \u001b[0;36m_normalize_tabular_data\u001b[0;34m(tabular_data, headers, showindex)\u001b[0m\n\u001b[1;32m   1085\u001b[0m \u001b[39mif\u001b[39;00m \u001b[39mhasattr\u001b[39m(tabular_data\u001b[39m.\u001b[39mvalues, \u001b[39m\"\u001b[39m\u001b[39m__call__\u001b[39m\u001b[39m\"\u001b[39m):\n\u001b[1;32m   1086\u001b[0m     \u001b[39m# likely a conventional dict\u001b[39;00m\n\u001b[1;32m   1087\u001b[0m     keys \u001b[39m=\u001b[39m tabular_data\u001b[39m.\u001b[39mkeys()\n\u001b[1;32m   1088\u001b[0m     rows \u001b[39m=\u001b[39m \u001b[39mlist\u001b[39m(\n\u001b[0;32m-> 1089\u001b[0m         izip_longest(\u001b[39m*\u001b[39;49mtabular_data\u001b[39m.\u001b[39;49mvalues())\n\u001b[1;32m   1090\u001b[0m     )  \u001b[39m# columns have to be transposed\u001b[39;00m\n\u001b[1;32m   1091\u001b[0m \u001b[39melif\u001b[39;00m \u001b[39mhasattr\u001b[39m(tabular_data, \u001b[39m\"\u001b[39m\u001b[39mindex\u001b[39m\u001b[39m\"\u001b[39m):\n\u001b[1;32m   1092\u001b[0m     \u001b[39m# values is a property, has .index => it's likely a pandas.DataFrame (pandas 0.11.0)\u001b[39;00m\n\u001b[1;32m   1093\u001b[0m     keys \u001b[39m=\u001b[39m \u001b[39mlist\u001b[39m(tabular_data)\n",
      "\u001b[0;31mTypeError\u001b[0m: 'int' object is not iterable"
     ]
    }
   ],
   "source": [
    "from tabulate import tabulate\n",
    "\n",
    "tablename = \"SOUR\"\n",
    "table = {\n",
    "    \"title\": \"SOUR\",\n",
    "    \"artist\": \"Olivia Rodrigo\",\n",
    "    \"year\": 2021,\n",
    "    \"genre\": [\"Pop\", \"Alternative-indie\"],\n",
    "    \"tracks\": {\n",
    "        1: \"brutal\",\n",
    "        2: \"traitor\",\n",
    "        3: \"drivers license\",\n",
    "        4: \"1 step forward, 3 steps back\",\n",
    "        5: \"deja vu\",\n",
    "        6: \"good 4 u\",\n",
    "        7: \"enough for you\",\n",
    "        8: \"happier\",\n",
    "        9: \"jealousy, jealousy\",\n",
    "        10: \"favorite crime\",\n",
    "        11: \"hope ur ok\",\n",
    "    },\n",
    "    \"duration\": {\n",
    "        1: \"2:23\",\n",
    "        2: \"3:49\",\n",
    "        3: \"4:02\",\n",
    "        4: \"2:43\",\n",
    "        5: \"3:35\",\n",
    "        6: \"2:58\",\n",
    "        7: \"3:22\",\n",
    "        8: \"2:55\",\n",
    "        9: \"2:53\",\n",
    "        10: \"2:32\",\n",
    "        11: \"3:29\",\n",
    "    }\n",
    "}\n",
    "# Select all rows from the \"Trips\" table\n",
    "# headers = [\"Song #\", \"title\", \"Artist\", \"Duration\"]\n",
    "\n",
    "# Use tabulate to format the rows as a table\n",
    "\n",
    "# Print the table\n",
    "# print(tabulate(SOUR_album.items(), headers = headers))\n",
    "print(tabulate(table))\n"
   ]
  }
 ],
 "metadata": {
  "kernelspec": {
   "display_name": "Python 3.9.12 ('base')",
   "language": "python",
   "name": "python3"
  },
  "language_info": {
   "codemirror_mode": {
    "name": "ipython",
    "version": 3
   },
   "file_extension": ".py",
   "mimetype": "text/x-python",
   "name": "python",
   "nbconvert_exporter": "python",
   "pygments_lexer": "ipython3",
   "version": "3.9.12"
  },
  "orig_nbformat": 4,
  "vscode": {
   "interpreter": {
    "hash": "40d3a090f54c6569ab1632332b64b2c03c39dcf918b08424e98f38b5ae0af88f"
   }
  }
 },
 "nbformat": 4,
 "nbformat_minor": 2
}
