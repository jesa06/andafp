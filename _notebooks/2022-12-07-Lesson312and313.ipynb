{
 "cells": [
  {
   "cell_type": "markdown",
   "metadata": {},
   "source": [
    "# Lesson 6 3.12-3.13 Notes and Hacks \n",
    "> Joselyn Anda "
   ]
  },
  {
   "cell_type": "markdown",
   "metadata": {},
   "source": [
    "# 3.12 \n",
    "> Calling procedures\n",
    "\n",
    "## Key Vocabulary \n",
    "- *Procedure*: a named group of programming instructions that may have parameters and return values\n",
    "- *Parameters*: input values of a procedure\n",
    "- *Arguments*: specify the values of the parameters when a procedure is called\n",
    "\n",
    "## Big Ideas\n",
    "- Procedures can be referred to as method or function depending on the programing language.\n",
    "- A procedure call interrupts an execution of statements and makes the program execute the statements in the procedure.\n",
    "- If you have a set of statements and inside there is a procedure then when it reaches that procedure it will execute that procedure and then go back to the rest of the statments.\n",
    "- If you see a return statement you automatically end the procedure even if there is more statements\n",
    "- Procedures are that a catch-all term for codes used to identify what was done to or given to a patient\n",
    "- If you have a set of statements in a procedure the statement will go thought the top of the procedure to the bottom in order.\n",
    "\n"
   ]
  },
  {
   "cell_type": "markdown",
   "metadata": {},
   "source": [
    "### Practice \n",
    "1. Here is a practice problem that involves calling a procedure by having an input and an output. This is a apply discount and apply tax procedure.\n",
    "    - $80 item receives a 20% discount and a tax is 8%\n",
    "    - PROCEDURE applyDiscount (cost, percentDiscounted) { temp <-- 100 - percentDiscounted"
   ]
  },
  {
   "cell_type": "code",
   "execution_count": 2,
   "metadata": {},
   "outputs": [
    {
     "ename": "NameError",
     "evalue": "name 'temp' is not defined",
     "output_type": "error",
     "traceback": [
      "\u001b[0;31m---------------------------------------------------------------------------\u001b[0m",
      "\u001b[0;31mNameError\u001b[0m                                 Traceback (most recent call last)",
      "\u001b[1;32m/Users/jesa/vscode/andafp/_notebooks/2022-12-07-Lesson312and313.ipynb Cell 3\u001b[0m in \u001b[0;36m<cell line: 1>\u001b[0;34m()\u001b[0m\n\u001b[0;32m----> <a href='vscode-notebook-cell:/Users/jesa/vscode/andafp/_notebooks/2022-12-07-Lesson312and313.ipynb#W3sZmlsZQ%3D%3D?line=0'>1</a>\u001b[0m temp \u001b[39m<\u001b[39m\u001b[39m-\u001b[39m temp \u001b[39m/\u001b[39m \u001b[39m100\u001b[39m\n\u001b[1;32m      <a href='vscode-notebook-cell:/Users/jesa/vscode/andafp/_notebooks/2022-12-07-Lesson312and313.ipynb#W3sZmlsZQ%3D%3D?line=2'>3</a>\u001b[0m cost \u001b[39m<\u001b[39m\u001b[39m-\u001b[39m cost \u001b[39m*\u001b[39m temp\n\u001b[1;32m      <a href='vscode-notebook-cell:/Users/jesa/vscode/andafp/_notebooks/2022-12-07-Lesson312and313.ipynb#W3sZmlsZQ%3D%3D?line=4'>5</a>\u001b[0m Print(cost)\n",
      "\u001b[0;31mNameError\u001b[0m: name 'temp' is not defined"
     ]
    }
   ],
   "source": [
    "temp <- temp / 100\n",
    "cost <- cost * temp\n",
    "\n",
    "Print(cost)"
   ]
  },
  {
   "cell_type": "markdown",
   "metadata": {},
   "source": [
    "2. Temperature Procedure"
   ]
  },
  {
   "cell_type": "markdown",
   "metadata": {},
   "source": [
    "- This procedure is used to Convert Fahrenheit to Celsius\n",
    "\n",
    "- What is 80 degrees in Celsius?\n",
    "\n",
    "- PROCEDURE convert Fahrenheit (temperature) {"
   ]
  },
  {
   "cell_type": "code",
   "execution_count": null,
   "metadata": {},
   "outputs": [],
   "source": [
    "Celsius <- tempature - 32\n",
    "Celsius <- Celsius * 5/9\n",
    "\n",
    "Print (Celsius)"
   ]
  },
  {
   "cell_type": "markdown",
   "metadata": {},
   "source": [
    "# 3.13 \n",
    "> Developing procedures, to manage a program and the complexity\n",
    "\n",
    "## Key Vocabulary \n",
    "*Modularity* - the practice of breaking a complex program into smaller, independent parts or modules that can be used and reused in different parts of the program\n",
    "\n",
    "## Big Ideas\n",
    "- There are two types of procedures, one that returns a value or some type of data and on that just executes a block of statements\n",
    "- Procedure-is a named group of programming instructions that serves a purpose\n",
    "- How to code Procedures-While Coding a procedure you must makes sure it has as name and a clear purpose weather to execute a response or complete an action\n",
    "- One common type of abstraction is procedural abstraction, which provides a name for a process and allows a procedure to be only knowing what it doe,not how it does it.\n",
    "- The subdivision of a computer program into separate subprograms is called modularity\n",
    "- It is important to understand you procedures procedure does when creating one as it will help you create a impactful procedure\n",
    "\n",
    "### Creating a Procedure\n",
    "1. Pick a descriptive name\n",
    "2. See if you need any parameters for this procedure (what data do you need to accomplish my goal? What king of information am I going to need?)\n",
    "3. 2 of the parameters in the example below could be the quizGrade and currentPoints (need this data)\n",
    "\n",
    "### Practice \n",
    "1. PROCEDURE updateGRADE(points, current grade,new grade){\n",
    "    - currentGrade <-- current points/total points\n",
    "    - currentGrade <-- current grade * 100\n",
    "    - if (currentGrade > quizGrade){\n",
    "        quizGrade <-- currentGrade\n",
    "    }\n",
    "    - return (quizGrade)\n",
    "    }\n",
    "\n",
    "2. after you take a quiz your teacher lets you retake it for full credit in which your are able to replace your grade\n",
    "TEST WITH first quiz GRADE is 40% and second is 90%\n",
    "\n"
   ]
  },
  {
   "cell_type": "code",
   "execution_count": 3,
   "metadata": {},
   "outputs": [
    {
     "ename": "SyntaxError",
     "evalue": "invalid syntax (1658636790.py, line 1)",
     "output_type": "error",
     "traceback": [
      "\u001b[0;36m  Input \u001b[0;32mIn [3]\u001b[0;36m\u001b[0m\n\u001b[0;31m    PROCEDURE updateGRADE(points, current grade,new grade){\u001b[0m\n\u001b[0m              ^\u001b[0m\n\u001b[0;31mSyntaxError\u001b[0m\u001b[0;31m:\u001b[0m invalid syntax\n"
     ]
    }
   ],
   "source": [
    "PROCEDURE updateGRADE(points, current grade,new grade){\n",
    "    currentGrade = current points /75\n",
    "    currentGrade = current grade * 100\n",
    "    if currentGrade > quizGrade\n",
    "    return currentGrade }"
   ]
  },
  {
   "cell_type": "markdown",
   "metadata": {},
   "source": [
    "### Hackathon!"
   ]
  },
  {
   "cell_type": "code",
   "execution_count": null,
   "metadata": {},
   "outputs": [],
   "source": [
    "Procedure winner(){\n",
    "    If Can_Move(Forward)\n",
    "        Move_Forward()\n",
    "    Else Rotate_Left()\n",
    "        Move_Forward()\n",
    "        If Can_Move(Right)\n",
    "            Rotate_Right()\n",
    "            Move_Forward()\n",
    "}"
   ]
  },
  {
   "cell_type": "code",
   "execution_count": null,
   "metadata": {},
   "outputs": [],
   "source": [
    "counter = 1\n",
    "while counter <= 2:\n",
    "    Procedure maze(){\n",
    "        If: Can_Move(Forward)\n",
    "            Move_Forward()\n",
    "        Else: Rotate_Right()\n",
    "            Move_Forward()\n",
    "            If Can_Move(Left)\n",
    "                Rotate_Left()\n",
    "                Move_Forward()\n",
    "    }\n",
    "    if i == 2\n",
    "        break\n",
    "    Procedure top(){\n",
    "    If Can_Move(Left)\n",
    "        Rotate_Left()\n",
    "        Move_Forward()\n",
    "    }"
   ]
  },
  {
   "cell_type": "markdown",
   "metadata": {},
   "source": [
    "# Homework Hacks\n",
    "## 3.12 Part 1\n",
    "1. Problem 1: This problem involves parameters\n",
    "Qais is writing code to calculate formulas from his math class. \n",
    "He's currently working on a procedure to calculate average speed, based on this formula:\n",
    "\n",
    "Average speed=\n",
    "\n",
    "Total Time/Total Distance​\n",
    "\n",
    "Highlight which of these is the best procedure for calculating and displaying average speed.\n",
    "PROCEDURE calcAvgSpeed (distance, time) { DISPLAY (distance/time) }\n",
    "PROCEDURE calcAvgSpeed (distance) { DISPLAY (distance/time) }\n",
    "<mark>PROCEDURE calcAvgSpeed (distance, time) { DISPLAY (time/distance) }</mark>"
   ]
  },
  {
   "cell_type": "markdown",
   "metadata": {},
   "source": [
    "2. Problem 2: Procedures with return values\n",
    "James Hunter is looking through his classmate's program and sees a procedure called heightenEmotions: \n",
    "\n",
    "PROCEDURE heightenEmotions(myEmotion){ \n",
    "    moreEnergy ← CONCAT(myEmotion, \"!!!\")\n",
    "moreVolume ← UPPER(moreEnergy)\n",
    "\n",
    "RETURN moreVolume }\n",
    "\n",
    "That procedure manipulates strings using two built-in procedures, CONCAT for concatenating two strings together, and UPPER for converting a string to uppercase.\n",
    "\n",
    "James Hunter then sees this line of code:\n",
    "\n",
    "heightenEmotions(\"im mad\")\n",
    "\n",
    "After that line of code runs, will nothing be displayed?\n",
    "\n",
    "<mark>True</mark>, because it does not have DISPLAY in the procedure \n",
    "\n",
    "False\n"
   ]
  },
  {
   "cell_type": "markdown",
   "metadata": {},
   "source": [
    "3. Problem 3: Procedures with return values\n",
    "Bubz is writing a program to calculate the carbon footprint of his activities. The procedure calcFlightFootprint calculates the pounds of carbon dioxide produced per passenger in a flight that covers a given number of miles and seats a given number of passengers.\n",
    "\n",
    "PROCEDURE calcFlightFootprint(numMiles, numPassengers) { \n",
    "\n",
    "CO2_PER_MILE ← 53.29\n",
    "\n",
    "carbonPerFlight ← numMiles * CO2_PER_MILE\n",
    "\n",
    "carbonPerPassenger ← carbonPerFlight / numPassengers\n",
    "\n",
    "RETURN carbonPerPassenger\n",
    "\n",
    "}\n",
    "\n",
    "Bubz wants to use that procedure to calculate the total footprint for his two upcoming flights: LA to NY: 2,451 miles and 118 passengers NY to London: 3,442 miles and 252 passengers\n",
    "\n",
    "Which of these code snippets successfully calculates and stores her total footprint? Highlight 2 answers.\n",
    "\n",
    "1. <mark>totalFootprint ← calcFlightFootprint(2451, 118) + calcFlightFootprint(3442, 252)</mark>\n",
    "\n",
    "2. totalFootprint ← calcFlightFootprint(2451, 118 + 3442, 252)\n",
    "\n",
    "3. <mark>totalFootprint ← calcFlightFootprint((2451, 118) + (3442, 252))</mark>\n",
    "\n",
    "4. laNyCarbon ← calcFlightFootprint(2451, 118) nyLondonCarbon ← calcFlightFootprint(3442, 252) totalFootprint ← laNyCarbon + nyLondonCarbon"
   ]
  },
  {
   "cell_type": "markdown",
   "metadata": {},
   "source": [
    "## 3.12 Part 2\n",
    "1. What is a?\n",
    "- a -- ? \n",
    "- b -- ? \n",
    "- c -- 9 \n",
    "- PROCEDURE find a () { b <-- 9 9\n",
    "- a <-- b c\n",
    "- Print (a) } \n",
    "\n",
    "- <mark>Answer: a is 9</mark>\n",
    "\n",
    "\n",
    "2. What is the cost?\n",
    "- cost ⟵ 173 tax - 10% PROCEDURE applytax (cost, percentDiscounted){ \n",
    "    - temp <-- 100 + percentTaxed \n",
    "    - temp <-- temp / 100 \n",
    "    - cost <-- cost x temp \n",
    "    - Print(cost)}\n",
    "\n",
    "- <mark>Answer: The cost $190.30</mark>\n",
    "\n",
    "3. What is the celsius value?\n",
    "- Temperature - 103 Degrees \n",
    "- PROCEDURE convert Fahrenheit (temperature) { \n",
    "    - Celsius <-- temperature - 32 \n",
    "    - Celsius <-- Celsius x 5/9\n",
    "- Print (Celsius)}\n",
    "\n",
    "- <mark>Answer: 39.4 Celsius</mark>"
   ]
  },
  {
   "cell_type": "markdown",
   "metadata": {},
   "source": [
    "## 3.13 Parts 1 and 2\n",
    "1. Create a procedure that is meant to replace the top running backs yards per game in one season if the current running back has more yards per game\n",
    "    - Necessary Parameters: toprbyardspg(100), currentrbyards(1260), totalGames(12)\n",
    "\n",
    "\n",
    "- PROCEDURE replaceTopRb(toprbyardspg(100), curerntrbyards(1260), totalgames){\n",
    "    - If (currentRbYards(1260) > toprbyardspg(100)){\n",
    "        - toprbyardspg <-- currentRbYards\n",
    "    - }\n",
    "- }\n",
    "\n",
    "2. Write a procedure that will allow the A+ to get to the 1, while avoiding the black boxes.\n",
    "\n",
    "    - PROCEDURE getAplus(){\n",
    "        - If (can_MoveForward):\n",
    "            - Move_Forward\n",
    "        - Else (can_MoveRight):\n",
    "            - Rotate_Right\n",
    "            - Move_Forward\n",
    "            - If (can_MoveLeft);\n",
    "                - Rotate_Left\n",
    "                - Move_forward\n",
    "    - }\n",
    "\n",
    "3. Which Is the Correct Way to define the Name of a Procedure?\n",
    "\n",
    "- A. PROCEDURE MYLIST\n",
    "- B. PROCEDURE MyList\n",
    "- C. procedure mylist\n",
    "\n",
    "- <mark>Answer: B. because procedure should be in all capitals and part of the the declared procedure should be capitalized, not all and not none.</mark> \n",
    "\n",
    "3. Write A Procedure that gets the Santa to the Christmas Tree\n",
    "- PROCEDURE SantaToTree{\n",
    "    count = 0\n",
    "    - Move_Forward\n",
    "    - Rotate_Left\n",
    "    - Move_Forward( until count = 6)\n",
    "        - break\n",
    "    - Rotate_Left\n",
    "    - Move_Forward\n",
    "}\n"
   ]
  },
  {
   "cell_type": "markdown",
   "metadata": {},
   "source": [
    "## What I have learned:\n",
    "- I learned the basics in creating a procedure:\n",
    "    - that the name needs to be simple but make sense\n",
    "    - that you can use for and while loops and iteration to shorten the code\n",
    "    - Procedure in the code should be written in all caps like \"PROCEDURE\"\n",
    "- In algorithms:\n",
    "    - there are many different algorithms to reach a certain solution\n",
    "    - you can also use for and while loops and iteration to shorten algorithms"
   ]
  }
 ],
 "metadata": {
  "kernelspec": {
   "display_name": "Python 3.9.12 ('base')",
   "language": "python",
   "name": "python3"
  },
  "language_info": {
   "codemirror_mode": {
    "name": "ipython",
    "version": 3
   },
   "file_extension": ".py",
   "mimetype": "text/x-python",
   "name": "python",
   "nbconvert_exporter": "python",
   "pygments_lexer": "ipython3",
   "version": "3.9.12"
  },
  "orig_nbformat": 4,
  "vscode": {
   "interpreter": {
    "hash": "40d3a090f54c6569ab1632332b64b2c03c39dcf918b08424e98f38b5ae0af88f"
   }
  }
 },
 "nbformat": 4,
 "nbformat_minor": 2
}
