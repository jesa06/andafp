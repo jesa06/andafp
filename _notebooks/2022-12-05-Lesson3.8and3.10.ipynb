{
 "cells": [
  {
   "cell_type": "markdown",
   "metadata": {},
   "source": [
    "# Lesson 4 3.8-3.10 Notes and Hacks \n",
    "> Joselyn Anda\n"
   ]
  },
  {
   "cell_type": "markdown",
   "metadata": {},
   "source": [
    "# 3.8 Iteration \n",
    "\n",
    "## Key Vocabulary \n",
    "- *Iteration* - Repetition of a Process\n",
    "- *For Loop* - repeats a function for a set number of times; I is the number of times repeated\n",
    "- *While Loop* - (repeat until), is used to repeat a section of code an unknown number of times until a specific condition is met\n",
    "- *Initialization* - What sets the counter variable to a starting value. For example (var i = 0) represents an initial value of 0.\n",
    "- *Condition* - Allows the computer to know whether or not to keep repeating the loop.\n",
    "- *increment/decrement* - Modifies the counter variable after each repetition."
   ]
  },
  {
   "cell_type": "markdown",
   "metadata": {},
   "source": [
    "## Iteration Ideas\n",
    "Iterative statements are also called loops, and they repeat themselves over and over until the condition for stopping is met.\n"
   ]
  },
  {
   "cell_type": "code",
   "execution_count": 14,
   "metadata": {},
   "outputs": [
    {
     "ename": "SyntaxError",
     "evalue": "invalid syntax (3721864140.py, line 2)",
     "output_type": "error",
     "traceback": [
      "\u001b[0;36m  Input \u001b[0;32mIn [14]\u001b[0;36m\u001b[0m\n\u001b[0;31m    for (i > 0; i--) {\u001b[0m\n\u001b[0m              ^\u001b[0m\n\u001b[0;31mSyntaxError\u001b[0m\u001b[0;31m:\u001b[0m invalid syntax\n"
     ]
    }
   ],
   "source": [
    "i = 10\n",
    "for (i > 0; i--) {\n",
    "   println(i);\n",
    "}"
   ]
  },
  {
   "cell_type": "code",
   "execution_count": null,
   "metadata": {},
   "outputs": [
    {
     "ename": "SyntaxError",
     "evalue": "invalid syntax (381139873.py, line 1)",
     "output_type": "error",
     "traceback": [
      "\u001b[0;36m  Input \u001b[0;32mIn [7]\u001b[0;36m\u001b[0m\n\u001b[0;31m    for (var i = 1; i <= 10; i++) {\u001b[0m\n\u001b[0m             ^\u001b[0m\n\u001b[0;31mSyntaxError\u001b[0m\u001b[0;31m:\u001b[0m invalid syntax\n"
     ]
    }
   ],
   "source": [
    "for (var i = 1; i <= 10; i++) {\n",
    "    for (var j = 1; j <= 10; j++) {\n",
    "        println(i * j);\n",
    "    }\n",
    "}"
   ]
  },
  {
   "cell_type": "code",
   "execution_count": null,
   "metadata": {},
   "outputs": [
    {
     "ename": "SyntaxError",
     "evalue": "invalid syntax (4084430815.py, line 1)",
     "output_type": "error",
     "traceback": [
      "\u001b[0;36m  Input \u001b[0;32mIn [8]\u001b[0;36m\u001b[0m\n\u001b[0;31m    var numRabbits = 2;\u001b[0m\n\u001b[0m        ^\u001b[0m\n\u001b[0;31mSyntaxError\u001b[0m\u001b[0;31m:\u001b[0m invalid syntax\n"
     ]
    }
   ],
   "source": [
    "var numRabbits = 2;\n",
    "var numYears = 0;\n",
    "while (numRabbits <= 100) {\n",
    "    numRabbits += (numRabbits/2 * 30);\n",
    "    numYears++;\n",
    "}"
   ]
  },
  {
   "cell_type": "markdown",
   "metadata": {},
   "source": [
    "# 3.10 Lists\n",
    "\n",
    "## Key Vocabulary\n",
    "- *Indexing / List Index* - The position of an element in a list, starting from 0\n",
    "- *append, remove, pop* - Various methods, append adds an element to the end, remove removes at an index, and pop removes the last item.\n",
    "- *Elements [in a list]* - An item in a list.\n",
    "- *Nesting* - Having one data type or function inside another data type or function, such as lists or loops.\n",
    "- *array* - Another name for a list, depends on the language\n"
   ]
  },
  {
   "cell_type": "markdown",
   "metadata": {},
   "source": [
    "## Lists\n",
    "Methods affect variables directly. Lists mutate. \n",
    "To add to a list, .append .extend or .insert\n",
    "To remove from a list, .pop (removes last) or .remove"
   ]
  },
  {
   "cell_type": "markdown",
   "metadata": {},
   "source": [
    "### Adding"
   ]
  },
  {
   "cell_type": "code",
   "execution_count": null,
   "metadata": {},
   "outputs": [
    {
     "name": "stdout",
     "output_type": "stream",
     "text": [
      "Fruits before append: ['apple', 'banana', 'kiwi', 'pomegranate']\n",
      "Fruits after append: ['apple', 'banana', 'kiwi', 'pomegranate', 'dragonfruit']\n"
     ]
    }
   ],
   "source": [
    "fruits = [\"apple\", \"banana\", \"kiwi\", \"pomegranate\"]\n",
    "\n",
    "print(f\"Fruits before append: {fruits}\")\n",
    "\n",
    "fruits.append(\"dragonfruit\") # ADDS TO THE END OF THE LIST\n",
    "\n",
    "print(f\"Fruits after append: {fruits}\")"
   ]
  },
  {
   "cell_type": "code",
   "execution_count": null,
   "metadata": {},
   "outputs": [
    {
     "name": "stdout",
     "output_type": "stream",
     "text": [
      "Fruits before extend: ['apple', 'banana', 'kiwi', 'pomegranate', 'dragonfruit']\n",
      "Fruits after extend: ['apple', 'banana', 'kiwi', 'pomegranate', 'dragonfruit', 'carrot', 'cucumber', 'eggplant']\n"
     ]
    }
   ],
   "source": [
    "food = [\"apple\", \"banana\", \"kiwi\", \"pomegranate\"]\n",
    "vegetables = [\"carrot\", \"cucumber\", \"eggplant\"]\n",
    "\n",
    "print(f\"Fruits before extend: {fruits}\")\n",
    "\n",
    "fruits.extend(vegetables) # adds the vegetable list to the end of the food list \n",
    "\n",
    "print(f\"Fruits after extend: {fruits}\")"
   ]
  },
  {
   "cell_type": "code",
   "execution_count": null,
   "metadata": {},
   "outputs": [
    {
     "name": "stdout",
     "output_type": "stream",
     "text": [
      "Fruits before insert: ['apple', 'banana', 'kiwi', 'pomegranate']\n",
      "Fruits after insert: ['apple', 'dragonfruit', 'banana', 'kiwi', 'pomegranate']\n"
     ]
    }
   ],
   "source": [
    "fruits = [\"apple\", \"banana\", \"kiwi\", \"pomegranate\"]\n",
    "\n",
    "print(f\"Fruits before insert: {fruits}\")\n",
    "\n",
    "fruits.insert(1, \"dragonfruit\")\n",
    "\n",
    "print(f\"Fruits after insert: {fruits}\")"
   ]
  },
  {
   "cell_type": "markdown",
   "metadata": {},
   "source": [
    "### Removing"
   ]
  },
  {
   "cell_type": "code",
   "execution_count": null,
   "metadata": {},
   "outputs": [
    {
     "name": "stdout",
     "output_type": "stream",
     "text": [
      "Fruits before pop: ['apple', 'banana', 'kiwi', 'pomegranate']\n",
      "Fruits after pop (no parameter): ['apple', 'banana', 'kiwi']\n",
      "Fruits after pop (specifying index 0): ['banana', 'kiwi']\n"
     ]
    }
   ],
   "source": [
    "fruits = [\"apple\", \"banana\", \"kiwi\", \"pomegranate\"]\n",
    "\n",
    "print(f\"Fruits before pop: {fruits}\")\n",
    "\n",
    "fruits.pop()\n",
    "\n",
    "print(f\"Fruits after pop (no parameter): {fruits}\")\n",
    "\n",
    "fruits.pop(0)\n",
    "\n",
    "print(f\"Fruits after pop (specifying index 0): {fruits}\")"
   ]
  },
  {
   "cell_type": "code",
   "execution_count": null,
   "metadata": {},
   "outputs": [
    {
     "name": "stdout",
     "output_type": "stream",
     "text": [
      "Fruits before remove: ['apple', 'banana', 'kiwi', 'pomegranate']\n",
      "Fruits after remove (removing apple): ['banana', 'kiwi', 'pomegranate']\n",
      "Fruits after remove (removing kiwi): ['banana', 'pomegranate']\n"
     ]
    }
   ],
   "source": [
    "fruits = [\"apple\", \"banana\", \"kiwi\", \"pomegranate\"]\n",
    "\n",
    "print(f\"Fruits before remove: {fruits}\")\n",
    "\n",
    "fruits.remove(\"apple\")\n",
    "\n",
    "print(f\"Fruits after remove (removing apple): {fruits}\")\n",
    "\n",
    "fruits.remove(\"kiwi\")\n",
    "\n",
    "print(f\"Fruits after remove (removing kiwi): {fruits}\")"
   ]
  },
  {
   "cell_type": "markdown",
   "metadata": {},
   "source": [
    "### Nested List\n",
    "Placing lists within lists allows you to have arrays of similar data together, and create complexity."
   ]
  },
  {
   "cell_type": "code",
   "execution_count": 16,
   "metadata": {},
   "outputs": [
    {
     "name": "stdout",
     "output_type": "stream",
     "text": [
      "[1, 0, 1, 0, 1, 0, 0, 0]\n",
      "[0, 0, 0, 0, 1, 0, 1, 1]\n",
      "[1, 1, 0, 0, 0, 1, 1, 1]\n"
     ]
    }
   ],
   "source": [
    "TwoDArray = [[1, 0, 1, 0, 1, 0, 0, 0], [0, 0, 0, 0, 1, 0, 1, 1], [1, 1, 0, 0, 0, 1, 1, 1], [0, 0, 0, 0, 1, 1, 1, 1]]\n",
    "print(TwoDArray[0]) # print first sublist\n",
    "print(TwoDArray[1]) # print second sublist\n",
    "print(TwoDArray[2]) # print third sublist\n",
    "\n",
    "# These 1s and 0s could represent anything. AMAZING DATA ABSTRACTION!"
   ]
  },
  {
   "cell_type": "markdown",
   "metadata": {},
   "source": [
    "You can iterate over these using multiple loops. This is useful for algorithms  "
   ]
  },
  {
   "cell_type": "code",
   "execution_count": 15,
   "metadata": {},
   "outputs": [
    {
     "name": "stdout",
     "output_type": "stream",
     "text": [
      "Num 0s: 17\n",
      "Num 1s: 15\n"
     ]
    }
   ],
   "source": [
    "bin_0 = 0\n",
    "bin_1 = 0\n",
    "for array in TwoDArray:\n",
    "    for bin in array:\n",
    "        if bin == 0:\n",
    "            bin_0 += 1\n",
    "        elif bin == 1:\n",
    "            bin_1 += 1\n",
    "\n",
    "print(f\"Num 0s: {bin_0}\")\n",
    "print(f\"Num 1s: {bin_1}\")"
   ]
  },
  {
   "cell_type": "markdown",
   "metadata": {},
   "source": [
    "### Sorting algorithms\n",
    "Insertion Sort:\n",
    "\n",
    "1. Takes in an unsorted list with numerical elements and returns with numerical elements in order\n",
    "2. iterates through every element one at a time\n",
    "3. check if element before the selected element is greater than or less than the selected element and adjust accordingly\n"
   ]
  },
  {
   "cell_type": "code",
   "execution_count": 17,
   "metadata": {},
   "outputs": [
    {
     "name": "stdout",
     "output_type": "stream",
     "text": [
      "array before sort [9, 1, 5, 6, 3, 7, 2, 8]\n",
      "array after sort [1, 2, 3, 5, 6, 7, 8, 9]\n"
     ]
    }
   ],
   "source": [
    "arr = [9,1,5,6,3,7,2,8]\n",
    "print(f\"array before sort {arr}\")\n",
    "def insertion_sort(arr):\n",
    "    for index in range(1,len(arr)): # repeats through length of the array\n",
    "        value = arr[index]\n",
    "        i = index - 1\n",
    "        while i >= 0:\n",
    "            if value < arr[i]:\n",
    "                arr[i+1] = arr[i] # shift number in slot i to the right\n",
    "                arr[i] = value # shift value left into slot i\n",
    "                i = i - 1\n",
    "            else:\n",
    "                break\n",
    "\n",
    "IS = insertion_sort(arr)\n",
    "print(f\"array after sort {arr}\")"
   ]
  },
  {
   "cell_type": "markdown",
   "metadata": {},
   "source": [
    "## Homework Hacks\n",
    "\n",
    "### Exercises \n",
    "![Exercise1]({{site.baseurl}}/images/exercise1.png) \n",
    "![Exercise2]({{site.baseurl}}/images/exercise2.png) \n",
    "- I learned that there is a function to actually reverse the whole list, listname.reverse \n",
    "- I also learned that you cannot print a function(list), it would not print the result and instead say None. \n",
    "- I learned that you have to iterate through a list using a for loop to swap the places of the elements in a list, and that there is no special code like .reverse to do it. \n",
    "\n",
    "### Multiple Choice Quiz\n",
    "![q8]({{site.baseurl}}/images/question8.png) \n",
    "- I keep mixing up a while loop for iterating for a set amount of time instead of until a condition is met.\n",
    "![q9]({{site.baseurl}}/images/question9.png) \n",
    "- I thought that \"until a user inputs 'quit'\" counted as some sort of condition to be met, so I just assumed it would be a while loop but it is a for loop.\n",
    "![q10]({{site.baseurl}}/images/question10.png)\n",
    "- There are three nested lists inside the big list. I again forgot that while loops are iterating over a certain interval *until* a condition is met. There are no conditions to be met in this list and loop, so they would be for loops. \n",
    "\n"
   ]
  },
  {
   "cell_type": "markdown",
   "metadata": {},
   "source": []
  }
 ],
 "metadata": {
  "kernelspec": {
   "display_name": "Python 3.9.12 ('base')",
   "language": "python",
   "name": "python3"
  },
  "language_info": {
   "codemirror_mode": {
    "name": "ipython",
    "version": 3
   },
   "file_extension": ".py",
   "mimetype": "text/x-python",
   "name": "python",
   "nbconvert_exporter": "python",
   "pygments_lexer": "ipython3",
   "version": "3.9.12"
  },
  "orig_nbformat": 4,
  "vscode": {
   "interpreter": {
    "hash": "40d3a090f54c6569ab1632332b64b2c03c39dcf918b08424e98f38b5ae0af88f"
   }
  }
 },
 "nbformat": 4,
 "nbformat_minor": 2
}
