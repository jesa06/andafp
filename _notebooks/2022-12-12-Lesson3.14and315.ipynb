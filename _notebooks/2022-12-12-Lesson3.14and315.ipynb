{
 "cells": [
  {
   "cell_type": "markdown",
   "metadata": {},
   "source": [
    "# Lesson 7 3.14-3.15 Notes and Hacks \n",
    "> Joselyn Anda "
   ]
  },
  {
   "cell_type": "markdown",
   "metadata": {},
   "source": [
    "# 3.14 \n",
    "> Libraries and Documentation\n",
    "\n",
    "## Essential Knowledge\n",
    "- Software libraries contain procedures used in creating novel programs.\n",
    "- Existing code segments can be derived from internal or external sources: Libraries, Previously written code.\n",
    "- Libraries simplify complex programs.\n",
    "- APIs (application program interfaces) specify how procedures in libraries should behave and be utilized.\n",
    "- Documentation for APIs/Libraries are necessary to gain proper understanding into how to use them.\n",
    "\n",
    "## Key Vocabulary\n",
    "- *Documentation*-\n",
    "- *Libraries*-\n",
    "- *Application Programming Interface*- \n",
    "\n",
    "## Big Ideas\n",
    "- Reusing Code: To make maximize efficiency in novel code, it is best to use previously made procedures.\n",
    "- Documentation: Explaining in words what a piece of code does in a simple way for others to understand\n",
    "    - Documentation for the example below: The procedure gradeAverage takes a list of integer values representing the percentages in a certain class, and returns the average of those integers.\n",
    "- Libraries and APIs: A useful example of a Library that is provided by College Board, is the APCSP Exam Reference Sheet. The sheet contains various procedures and how they should/are used.\n",
    "    - Appilcation Program Interface (API) gives specific directions for how procedures that reside in these APIs can be used.\n",
    "\n"
   ]
  },
  {
   "cell_type": "code",
   "execution_count": 1,
   "metadata": {},
   "outputs": [
    {
     "name": "stdout",
     "output_type": "stream",
     "text": [
      "The average grade is 74.4\n"
     ]
    }
   ],
   "source": [
    "def gradeAverage(num):\n",
    "    sumNums = 0\n",
    "    for t in num:\n",
    "        sumNums = sumNums + t\n",
    "\n",
    "    average = sumNums / len(num)\n",
    "    return average\n",
    "\n",
    "print(\"The average grade is\", gradeAverage([65, 70, 72, 75, 80, 73, 61, 84, 81, 83]))\n"
   ]
  },
  {
   "cell_type": "markdown",
   "metadata": {},
   "source": [
    "## Practice\n",
    "1. Which of the following would be MOST useful as part of a program that determines Grade Point Average?\n",
    "\n",
    "- A procedure isEqual, which takes two positive integers as input and returnes if their values are equal.\n",
    "- A procedure calcQuotient, which takes two positive integers as input and returns their quotient.\n",
    "- A procedure getHighGrade, which takes a list of grades as input and returns the highest value.\n",
    "- A procedure calcStatus, which takes a positve integer credits and returns a string grade classifier (senior, junior, etc.).\n",
    "\n",
    "- <mark>Answer</mark>: 2, in order to calculate a GPA, it is necessary to take sum of the letter grades' corresponding numbers, and divide them by the number of grades]\n",
    "\n",
    "2. Which of the following would be LEAST useful in a program that helps choose the best restaurant within 5 miles of your location?\n",
    "\n",
    "- A procedure orderReviews, which lists 10 restaurants from least to greatest based on their associated star-rating.\n",
    "- A procedure numPeople, which outputs the name of 10 restaurants with the highest visits per month.\n",
    "- A procedure foodItem, which lists all menu items marked vegetarian on a high rated restaurants menu.\n",
    "- A procedure ranRest, which randomizes a list of highest rating restaurants and outputs 1 restaurant.\n",
    "\n",
    "- <mark>Answer</mark>: 3, it does not help to choose the restaurant itself\n"
   ]
  },
  {
   "cell_type": "markdown",
   "metadata": {},
   "source": [
    "# 3.15 \n",
    "> Random Values\n",
    "\n",
    "## Learning Objectives:\n",
    "- Write expressions to generate possible values\n",
    "- Evaluate expressions to determine the possible results\n",
    "\n",
    "## Key Vocabulary:\n",
    "- *randomization*- Rolling a dice, Lottery Tickets, Game of Marbles\n",
    "\n",
    "## Practice:\n",
    "1. RANDOM(a, b) - which generates and returns a random integer from a to b, inclusive. Each result is equally likely to occur.\n",
    "\n",
    "    - Adding two ranges to get a third range\n",
    "\n",
    "        - Example Problem:\n",
    "        - answer1 = random(0,2)\n",
    "        - answer2 = random(1,5)\n",
    "        - answer3 = answer1 + answer2\n",
    "\n",
    "    - What is the possible range of results for answer?\n",
    "    - <mark>Answer</mark>: [1, 2, 3, 4, 5, 6, 7]\n",
    "2. Working with Random Number Generators\n",
    "    - A die contains six sides with corresponding dots 1 through 6 on individual sides. Which of the following code segments can be used to simulate the results of rolling the die 3 times and assigns the sum of the values obtained by the rolls to the variable.\n",
    "        - A) sum = 3 * random(1,6)\n",
    "        - B) sum = random(1,18)\n",
    "        - C) sum = random(1,6) + random(1,6) + random(1,6)\n",
    "    - <mark>Answer</mark>: C, because it is random each time\n",
    "\n",
    " "
   ]
  },
  {
   "cell_type": "markdown",
   "metadata": {},
   "source": [
    "## Using the random library\n",
    "### Using random.choice\n",
    "\n"
   ]
  },
  {
   "cell_type": "code",
   "execution_count": 2,
   "metadata": {},
   "outputs": [
    {
     "name": "stdout",
     "output_type": "stream",
     "text": [
      "You should watch Cobra Kai!\n"
     ]
    }
   ],
   "source": [
    "import random\n",
    "\n",
    "tvshows_list = ['Squid Game', 'Cobra Kai', 'Gilmore Girls', 'Sherlock Holmes', 'Barbie in the Dream House']\n",
    "\n",
    "# pick a random choice from a list of strings.\n",
    "random_tvshow = random.choice(tvshows_list)\n",
    "print(f\"You should watch {random_tvshow}!\")"
   ]
  },
  {
   "cell_type": "markdown",
   "metadata": {},
   "source": [
    "### Using random.shuffle\n"
   ]
  },
  {
   "cell_type": "code",
   "execution_count": 3,
   "metadata": {},
   "outputs": [
    {
     "name": "stdout",
     "output_type": "stream",
     "text": [
      "List before using shuffle:  [7, 8, 10, 22]\n",
      "List after using shuffle method:  [7, 22, 8, 10]\n"
     ]
    }
   ],
   "source": [
    "import random\n",
    "\n",
    "num_list = [7,8,10,22]\n",
    "\n",
    "print(\"List before using shuffle: \", num_list)\n",
    "random.shuffle(num_list)\n",
    "\n",
    "print(\"List after using shuffle method: \", num_list)"
   ]
  },
  {
   "cell_type": "markdown",
   "metadata": {},
   "source": [
    "## Syntax"
   ]
  },
  {
   "cell_type": "code",
   "execution_count": 4,
   "metadata": {},
   "outputs": [
    {
     "name": "stdout",
     "output_type": "stream",
     "text": [
      "-----\n",
      "37 70\n",
      "-----\n",
      "47 70\n",
      "-----\n",
      "82 30\n",
      "-----\n",
      "48 30\n",
      "-----\n",
      "94 50\n",
      "-----\n",
      "55 90\n",
      "-----\n",
      "81 10\n",
      "-----\n",
      "54 0\n",
      "-----\n",
      "17 90\n",
      "-----\n",
      "33 40\n"
     ]
    }
   ],
   "source": [
    "import random  ## The random library must be imported to use it's functions\n",
    "\n",
    "## Either randint or randrange can be used the only difference is that you can use a step function in randrange and the max value won't be inclued\n",
    "\n",
    "x = 0\n",
    "a = 0\n",
    "b = 100\n",
    "\n",
    "while x < 10:\n",
    "    print ('-----')\n",
    "    x = x + 1\n",
    "    \n",
    "    i = random.randint(a, b)\n",
    "    r = random.randrange(a, b, 10)  \n",
    "    print(i, r)"
   ]
  },
  {
   "cell_type": "markdown",
   "metadata": {},
   "source": [
    "## randint: \n",
    "- write this is randint(start, stop) where start is the minimum value, stop is the maximum value. And this allows you to generate a random integer from a set range and this can help you create code for things like a coin-flip, dice roll, and anything else which needs an inclusive range.\n",
    "\n"
   ]
  },
  {
   "cell_type": "code",
   "execution_count": 5,
   "metadata": {},
   "outputs": [
    {
     "name": "stdout",
     "output_type": "stream",
     "text": [
      "4\n",
      "4\n",
      "3\n",
      "6\n",
      "4\n",
      "4\n",
      "4\n",
      "3\n",
      "5\n",
      "4\n"
     ]
    }
   ],
   "source": [
    "numRolls = 10\n",
    "x = 0\n",
    "while x < numRolls:\n",
    "    x = x + 1 \n",
    "    i = random.randint(1, 6)\n",
    "    print(i)"
   ]
  },
  {
   "cell_type": "markdown",
   "metadata": {},
   "source": [
    "## randrange:\n",
    "- like an arithmetic series\n",
    "- can be written like randrange(start, stop, step) where start is the minimum value, stop is the maximum value (like the randint function), and step is the incriment the values can be and its default value is 1. If start = 0 and step = 5 all the values that can by outputed are 0 and multiples of 5. And if start = 2 and step = 3 the output would be 2 and a multiple of 3 plus 2."
   ]
  },
  {
   "cell_type": "markdown",
   "metadata": {},
   "source": [
    "## Practice\n",
    "1. A person is playing a game of darts.\n",
    "\n",
    "- This incomplete code segment simulates the person throwing a dart:\n",
    "\n",
    "    - IF () { shotMade ← true DISPLAY(\"Score!\") } ELSE { DISPLAY(\"Miss!\") }\n",
    "    - Which of these can replace MISSING CONDITION so that the has a 75% chance of making the shot? (There are TWO answers!)\n",
    "\n",
    "        - RANDOM(1, 100) <= 75\n",
    "        - RANDOM(1, 100) < 75\n",
    "        - RANDOM(1, 4) < 3\n",
    "        - RANDOM(1, 4) <= 3\n",
    "    \n",
    "    - <mark>Answer</mark>: 1 and 4 are both correct, 1 includes the values from 1-75 which means that it has a 75% chance to be chosen and 4 includes the values of 1, 2, and 3 which makes 3/4 which is the same as a 75% chance.\n",
    "        - ratios 75/100 = 3/4 = 75%\n"
   ]
  },
  {
   "cell_type": "markdown",
   "metadata": {},
   "source": [
    "# Hacks/Homework\n",
    "## Reflection\n",
    "Thorough notes or summary that reflects understanding of today's lesson.\n",
    "\n",
    "## Multiple Choice\n",
    "\n",
    "1. What does the random(a,b) function generate?\n",
    "    - A. A random integer from a to be exclusive\n",
    "    - B. A random integer from a to b inclusive.\n",
    "    - C. A random word from variable a to variable b exclusive.\n",
    "    - D. A random word from variable a to variable b inclusive.\n",
    "\n",
    "    - <mark>Answer</mark>:  B, because it includes all of those numbers in between and the endpoints\n",
    "\n",
    "2. What is x, y, and z in random.randrange(x, y, z)?\n",
    "    - A. x = start, y = stop, z = step\n",
    "    - B. x = start, y = step, z = stop\n",
    "    - C. x = stop, y = start, z = step\n",
    "    - D. x = step, y = start, z = stop\n",
    "\n",
    "    - <mark>Answer</mark>: A, the order is start, stop, step\n",
    "\n",
    "3. Which of the following is NOT part of the random library?\n",
    "    - A. random.item\n",
    "    - B. random.random\n",
    "    - C. random.shuffle\n",
    "    - D. random.randint\n",
    "\n",
    "    - <mark>Answer</mark>: B, there is no random.random\n",
    "\n",
    "## Short Answer Questions\n",
    "\n",
    "1. What is the advantage of using libraries?\n",
    "- The advantage of using libraries is that they show how code should be used and is used. \n",
    "\n",
    "2. Write a thorough documentation of the following code.\n",
    "- Basically, the user inputs the possible names of the people. The code then calculates the number of people entered, randomizes it in order of how it was entered and then choose a person."
   ]
  },
  {
   "cell_type": "code",
   "execution_count": 6,
   "metadata": {},
   "outputs": [
    {
     "name": "stdout",
     "output_type": "stream",
     "text": [
      " Amitha is going to buy the meal today!\n"
     ]
    }
   ],
   "source": [
    "import random \n",
    "\n",
    "names_string = input(\"Give me everybody's names, seperated by a comma.\")\n",
    "names = names_string.split(\",\")\n",
    "\n",
    "num_items = len(names)\n",
    "\n",
    "random_choice = random.randint(0, num_items - 1)\n",
    "\n",
    "person_who_will_pay = names[random_choice]\n",
    "\n",
    "print(f\"{person_who_will_pay} is going to buy the meal today!\")"
   ]
  },
  {
   "cell_type": "markdown",
   "metadata": {},
   "source": [
    "## Coding Challenges!\n",
    "> REQUIRED: Create programs in python to complete the two task</p>\n",
    "\n",
    "- Create a program to pick five random names from a list of at least 15 names"
   ]
  },
  {
   "cell_type": "code",
   "execution_count": null,
   "metadata": {},
   "outputs": [],
   "source": [
    "import random \n",
    "\n",
    "possible_people = input(\"Enter the names into a lottery. This is a chance to win $10 Million!\")\n",
    "people = possible_people.split(\",\")\n",
    "\n",
    "num_people = len(people)\n",
    "\n",
    "random_choice - random.randint(0, num_people - 1)\n",
    "\n",
    "lottery_winner = people[random_choice]\n",
    "\n",
    "print(f\"{lottery_winner} won the lottery of $10 Million\")\n"
   ]
  },
  {
   "cell_type": "markdown",
   "metadata": {},
   "source": [
    "- Create a program to simulate a dice game where each player rolls two fair dice (6 sides); the player with the greater sum wins"
   ]
  }
 ],
 "metadata": {
  "kernelspec": {
   "display_name": "Python 3.9.12 ('base')",
   "language": "python",
   "name": "python3"
  },
  "language_info": {
   "codemirror_mode": {
    "name": "ipython",
    "version": 3
   },
   "file_extension": ".py",
   "mimetype": "text/x-python",
   "name": "python",
   "nbconvert_exporter": "python",
   "pygments_lexer": "ipython3",
   "version": "3.9.12"
  },
  "orig_nbformat": 4,
  "vscode": {
   "interpreter": {
    "hash": "40d3a090f54c6569ab1632332b64b2c03c39dcf918b08424e98f38b5ae0af88f"
   }
  }
 },
 "nbformat": 4,
 "nbformat_minor": 2
}
