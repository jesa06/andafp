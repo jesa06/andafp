{
 "cells": [
  {
   "attachments": {},
   "cell_type": "markdown",
   "metadata": {},
   "source": [
    "# P5Y Frontend and Backend Development Notes\n",
    "\n",
    "- toc: true\n",
    "- title: Frontend and Backend Development Lesson Notes"
   ]
  },
  {
   "attachments": {},
   "cell_type": "markdown",
   "metadata": {},
   "source": [
    "# Introduction\n",
    "Frontend and backend are two essential components of a web application. The frontend is the part of the application that interacts with the user, whereas the backend is the part that handles the logic and data processing behind the scenes.\n",
    "\n",
    "The frontend, also known as the client-side, typically consists of HTML, CSS, and JavaScript code that runs in the user's web browser. The frontend handles the user interface, page layout, and overall look of the application. It also handles user interactions, such as submitting forms, clicking buttons, and navigating between pages.\n",
    "\n",
    "On the other hand, the backend, also known as the server-side, typically consists of a server, a database, and, in our case, APIs. The backend handles the processing and storage of data, manages user authentication and authorization, and handles business logic and rules. The backend also communicates with the frontend, providing the necessary data to render the user interface and processing user inputs."
   ]
  },
  {
   "attachments": {},
   "cell_type": "markdown",
   "metadata": {},
   "source": [
    "# Backend\n",
    "In our class we mainly use Python and SQL/JSON to create APIs and databases. Here is a simple example of creating a SQL database and using CRUD as well.\n",
    "\n",
    "## What is CRUD\n",
    "- C: The 'C' stands for create, meaning to create a new entry in a database. In this case, creating a new entry about a certain movie or TV show.\n",
    "\n",
    "- R: Read, or to retrieve data from the database. In this case it is selecting the movie/TV show that you choose to display.\n",
    "\n",
    "- U: Update, or changing an existing entry in the database. In this case it is selecting the preexisting movie/TV show and changing the values to match what you want.\n",
    "\n",
    "- D: Delete, or removing data from the database. In this case it is selecting the preexisting movie/TV show and removing the entry from the database.\n",
    "\n",
    "# Films API\n",
    "This API is intended to be used as a list of movies and TV shows that a person has watched. It includes attributes for the Film name(key), the year released, the language, the number of episodes, A list of the number of episodes(using pickletype), and a youtube url for the trailer. The CRUD works as follows:\n",
    "Create: Enter the above mentioned attributes\n",
    "Read: Returns all of the films and their attributes\n",
    "Update: Takes in new episodes watched, and a list of their names, and adds them to their respective attributes\n",
    "Delete: Option for deleting every film, also takes in a name to delete that film if it exists"
   ]
  },
  {
   "cell_type": "code",
   "execution_count": 1,
   "metadata": {},
   "outputs": [],
   "source": [
    "# Import the Flask and SQLite libraries\n",
    "from flask import Flask\n",
    "import sqlite3\n",
    "\n",
    "app = Flask(__name__)\n",
    "# Connect to the SQLite database using SQLite3\n",
    "conn = sqlite3.connect('films.db')\n",
    "\n",
    "# Create a cursor object to execute SQL commands\n",
    "cursor = conn.cursor()\n",
    "\n",
    "# Create a table in the database\n",
    "cursor.execute('''CREATE TABLE movies\n",
    "                 (id INTEGER PRIMARY KEY, title TEXT, year INTEGER, epcount INTEGER, language TEXT, trailer TEXT, eplist TEXT)''')\n",
    "\n",
    "# Commit the changes to the database and close the connection\n",
    "conn.commit()\n",
    "conn.close()"
   ]
  },
  {
   "cell_type": "code",
   "execution_count": 4,
   "metadata": {},
   "outputs": [
    {
     "name": "stdout",
     "output_type": "stream",
     "text": [
      "Never Have I Ever has been added to the list of movies.\n"
     ]
    }
   ],
   "source": [
    "import sqlite3\n",
    "\n",
    "def create():\n",
    "    # Ask the user for movie details\n",
    "    title = input(\"Enter the movie/tv show title: \")\n",
    "    year = input(\"Enter the movie/tv show release year: \")\n",
    "    epcount = input(\"Enter the movie/tv show epcount: \")\n",
    "    language = input(\"Enter the movie/tv show language: \")\n",
    "    eplist = input(\"Enter the movie/tv show episode names: \")\n",
    "    trailer = input(\"Enter the link movie/tv show trailer: \")\n",
    "\n",
    "    # Connect to the database and create a cursor to execute SQL commands\n",
    "    database = 'films.db'\n",
    "    connection = sqlite3.connect(database)\n",
    "    cursor = connection.cursor()\n",
    "\n",
    "    try:\n",
    "        # Execute SQL to insert record into db\n",
    "        cursor.execute(\"INSERT INTO movies (title, year, epcount, language, eplist, trailer) VALUES (?, ?, ?, ?, ?, ?)\", (title, year, epcount, language, eplist, trailer))\n",
    "        # Commit the changes\n",
    "        connection.commit()\n",
    "        print(f\"{title} has been added to the list of movies.\")\n",
    "\n",
    "    except sqlite3.Error as error:\n",
    "        print(\"Error while inserting record:\", error)\n",
    "\n",
    "    # Close cursor and connection\n",
    "    cursor.close()\n",
    "    connection.close()\n",
    "\n",
    "create()"
   ]
  },
  {
   "cell_type": "code",
   "execution_count": 8,
   "metadata": {},
   "outputs": [
    {
     "name": "stdout",
     "output_type": "stream",
     "text": [
      "1. Never Have I Ever, 2021, 40, English, link, Davi/Ben\n"
     ]
    }
   ],
   "source": [
    "def read(id):\n",
    "    # Connect to the database and create a cursor to execute SQL commands\n",
    "    database = 'films.db'\n",
    "    connection = sqlite3.connect(database)\n",
    "    cursor = connection.cursor()\n",
    "\n",
    "    # Execute SQL to select a record from db by id\n",
    "    cursor.execute(\"SELECT * FROM movies WHERE id=?\", (id,))\n",
    "\n",
    "    # Fetch the record from the cursor\n",
    "    movie = cursor.fetchone()\n",
    "\n",
    "    # If movie exists, print its details, else print message\n",
    "    if movie:\n",
    "        print(f\"{movie[0]}. {movie[1]}, {movie[2]}, {movie[3]}, {movie[4]}, {movie[5]}, {movie[6]}\")\n",
    "    else:\n",
    "        print(\"Movie not found.\")\n",
    "\n",
    "    # Close cursor and connection\n",
    "    cursor.close()\n",
    "    connection.close()\n",
    "\n",
    "read(id=1)"
   ]
  },
  {
   "cell_type": "code",
   "execution_count": 7,
   "metadata": {},
   "outputs": [
    {
     "name": "stdout",
     "output_type": "stream",
     "text": [
      "Movie updated successfully.\n"
     ]
    }
   ],
   "source": [
    "def update(id):\n",
    "    # Connect to the database and create a cursor to execute SQL commands\n",
    "    database = 'films.db'\n",
    "    connection = sqlite3.connect(database)\n",
    "    cursor = connection.cursor()\n",
    "\n",
    "    # Ask the user for movie details to update\n",
    "    title = input(\"Enter the updated movie/tv show title: \")\n",
    "    year = input(\"Enter the updated movie/tv show release year: \")\n",
    "    epcount = input(\"Enter the updated movie/tv show epcount: \")\n",
    "    language = input(\"Enter the updated movie/tv show language: \")\n",
    "    eplist = input(\"Enter the updated movie/tv show episode names: \")\n",
    "    trailer = input(\"Enter the updated link movie/tv show trailer: \")\n",
    "\n",
    "    try:\n",
    "        # Execute SQL to update the record in db\n",
    "        cursor.execute(\"UPDATE movies SET title=?, year=?, epcount=?, language=?, eplist=?, trailer=? WHERE id=?\", (title, year, epcount, language, eplist, trailer, id))\n",
    "        # Commit the changes\n",
    "        connection.commit()\n",
    "        print(\"Movie updated successfully.\")\n",
    "\n",
    "    except sqlite3.Error as error:\n",
    "        print(\"Error while updating record:\", error)\n",
    "\n",
    "    # Close cursor and connection\n",
    "    cursor.close()\n",
    "    connection.close()\n",
    "\n",
    "update(id=1)"
   ]
  },
  {
   "cell_type": "code",
   "execution_count": 31,
   "metadata": {},
   "outputs": [
    {
     "name": "stdout",
     "output_type": "stream",
     "text": [
      "Movie deleted successfully.\n"
     ]
    }
   ],
   "source": [
    "def delete(id):\n",
    "    # Connect to the database and create a cursor to execute SQL commands\n",
    "    database = 'films.db'\n",
    "    connection = sqlite3.connect(database)\n",
    "    cursor = connection.cursor()\n",
    "\n",
    "    try:\n",
    "        # Execute SQL to delete the record from db by id\n",
    "        cursor.execute(\"DELETE FROM movies WHERE id=?\", (id,))\n",
    "        # Commit the changes\n",
    "        connection.commit()\n",
    "        print(\"Movie deleted successfully.\")\n",
    "\n",
    "    except sqlite3.Error as error:\n",
    "        print(\"Error while deleting record:\", error)\n",
    "\n",
    "    # Close cursor and connection\n",
    "    cursor.close()\n",
    "    connection.close()\n",
    "\n",
    "delete(id=2)"
   ]
  },
  {
   "attachments": {},
   "cell_type": "markdown",
   "metadata": {},
   "source": [
    "# Fetching \n",
    "### Overview\n",
    "- Involves retrieving data from a server or database\n",
    "- Can use different HTTP methods, such as GET, POST, PUT, and DELETE, to perform different types of operations on the server.\n",
    "- Fetching can be done through a variety of ways including AJAX, XHR, and Axios\n",
    "- In APCSP we tend to use the Fetch API over anything else\n",
    "- Fetching involves sending a request to a server using a URL (Uniform Resource Locator), which identifies the location of the resource being requested.\n",
    "- Can receive data in various formats, including JSON\n",
    "- JSON data can be parsed into objects and arrays in JavaScript, making it easy to work with and manipulate in the frontend"
   ]
  },
  {
   "attachments": {},
   "cell_type": "markdown",
   "metadata": {},
   "source": [
    "## Python Fetch Using Request"
   ]
  },
  {
   "cell_type": "code",
   "execution_count": 5,
   "metadata": {},
   "outputs": [
    {
     "name": "stdout",
     "output_type": "stream",
     "text": [
      "{'page': 1, 'next': '/titles?page=2', 'entries': 10, 'results': [{'id': 'tt0001922', 'primaryImage': {'id': 'rm736959488', 'width': 800, 'height': 563, 'url': 'https://m.media-amazon.com/images/M/MV5BZDI4MmJiMmMtMzQ3Mi00N2Y0LTlkYmUtYmQ0ZTQ1NzVlZmVjXkEyXkFqcGdeQXVyMDUyOTUyNQ@@._V1_.jpg', 'caption': {'plainText': 'Darwin Karr and Gertrude McCoy in That Winsome Winnie Smile (1911)', '__typename': 'Markdown'}, '__typename': 'Image'}, 'titleType': {'text': 'Short', 'id': 'short', 'isSeries': False, 'isEpisode': False, '__typename': 'TitleType'}, 'titleText': {'text': 'That Winsome Winnie Smile', '__typename': 'TitleText'}, 'releaseYear': {'year': 1911, 'endYear': None, '__typename': 'YearRange'}, 'releaseDate': {'day': 9, 'month': 9, 'year': 1911, '__typename': 'ReleaseDate'}}, {'id': 'tt0001539', 'primaryImage': {'id': 'rm1311052544', 'width': 800, 'height': 582, 'url': 'https://m.media-amazon.com/images/M/MV5BZGY5NzI0MzQtM2EwYi00NzY2LThiYjYtYTM5YmViZDEwMzkzXkEyXkFqcGdeQXVyMDUyOTUyNQ@@._V1_.jpg', 'caption': {'plainText': 'Caïn et Abel (1911)', '__typename': 'Markdown'}, '__typename': 'Image'}, 'titleType': {'text': 'Short', 'id': 'short', 'isSeries': False, 'isEpisode': False, '__typename': 'TitleType'}, 'titleText': {'text': 'Caïn et Abel', '__typename': 'TitleText'}, 'releaseYear': {'year': 1911, 'endYear': None, '__typename': 'YearRange'}, 'releaseDate': {'day': None, 'month': None, 'year': 1911, '__typename': 'ReleaseDate'}}, {'id': 'tt0001636', 'primaryImage': None, 'titleType': {'text': 'Short', 'id': 'short', 'isSeries': False, 'isEpisode': False, '__typename': 'TitleType'}, 'titleText': {'text': 'Galileo', '__typename': 'TitleText'}, 'releaseYear': {'year': 1911, 'endYear': None, '__typename': 'YearRange'}, 'releaseDate': {'day': None, 'month': 7, 'year': 1911, '__typename': 'ReleaseDate'}}, {'id': 'tt0002148', 'primaryImage': {'id': 'rm1303852544', 'width': 700, 'height': 526, 'url': 'https://m.media-amazon.com/images/M/MV5BMWY2ODg0YWEtZDVmYy00OTEwLTkxN2YtYzY5ZmRmNjVlZWYyXkEyXkFqcGdeQXVyMDUyOTUyNQ@@._V1_.jpg', 'caption': {'plainText': \"Fred Mace and Mabel Normand in The Drummer's Vacation (1912)\", '__typename': 'Markdown'}, '__typename': 'Image'}, 'titleType': {'text': 'Short', 'id': 'short', 'isSeries': False, 'isEpisode': False, '__typename': 'TitleType'}, 'titleText': {'text': \"The Drummer's Vacation\", '__typename': 'TitleText'}, 'releaseYear': {'year': 1912, 'endYear': None, '__typename': 'YearRange'}, 'releaseDate': {'day': 23, 'month': 12, 'year': 1912, '__typename': 'ReleaseDate'}}, {'id': 'tt0001702', 'primaryImage': None, 'titleType': {'text': 'Short', 'id': 'short', 'isSeries': False, 'isEpisode': False, '__typename': 'TitleType'}, 'titleText': {'text': \"The Indian Maiden's Lesson\", '__typename': 'TitleText'}, 'releaseYear': {'year': 1911, 'endYear': None, '__typename': 'YearRange'}, 'releaseDate': {'day': 22, 'month': 4, 'year': 1911, '__typename': 'ReleaseDate'}}, {'id': 'tt0001856', 'primaryImage': {'id': 'rm970923264', 'width': 800, 'height': 597, 'url': 'https://m.media-amazon.com/images/M/MV5BYmVhNGZlZTEtNjFmMS00MjEyLThkZmMtMTIwZjRjNzFkYjU3XkEyXkFqcGdeQXVyMDUyOTUyNQ@@._V1_.jpg', 'caption': {'plainText': 'Edwin August and Dorothy West in The Revenue Man and the Girl (1911)', '__typename': 'Markdown'}, '__typename': 'Image'}, 'titleType': {'text': 'Short', 'id': 'short', 'isSeries': False, 'isEpisode': False, '__typename': 'TitleType'}, 'titleText': {'text': 'The Revenue Man and the Girl', '__typename': 'TitleText'}, 'releaseYear': {'year': 1911, 'endYear': None, '__typename': 'YearRange'}, 'releaseDate': {'day': 25, 'month': 9, 'year': 1911, '__typename': 'ReleaseDate'}}, {'id': 'tt0001790', 'primaryImage': {'id': 'rm635370240', 'width': 1748, 'height': 1340, 'url': 'https://m.media-amazon.com/images/M/MV5BMjAzMzQ3MjQxOV5BMl5BanBnXkFtZTgwMDQzNzExMzE@._V1_.jpg', 'caption': {'plainText': 'Eugénie Nau in Les misérables - Époque 1: Jean Valjean (1913)', '__typename': 'Markdown'}, '__typename': 'Image'}, 'titleType': {'text': 'Movie', 'id': 'movie', 'isSeries': False, 'isEpisode': False, '__typename': 'TitleType'}, 'titleText': {'text': 'Les misérables - Époque 1: Jean Valjean', '__typename': 'TitleText'}, 'releaseYear': {'year': 1913, 'endYear': None, '__typename': 'YearRange'}, 'releaseDate': {'day': 3, 'month': 1, 'year': 1913, '__typename': 'ReleaseDate'}}, {'id': 'tt0000543', 'primaryImage': None, 'titleType': {'text': 'Short', 'id': 'short', 'isSeries': False, 'isEpisode': False, '__typename': 'TitleType'}, 'titleText': {'text': 'Christian IXS bisættelse', '__typename': 'TitleText'}, 'releaseYear': {'year': 1906, 'endYear': None, '__typename': 'YearRange'}, 'releaseDate': {'day': 19, 'month': 2, 'year': 1906, '__typename': 'ReleaseDate'}}, {'id': 'tt0002089', 'primaryImage': None, 'titleType': {'text': 'Movie', 'id': 'movie', 'isSeries': False, 'isEpisode': False, '__typename': 'TitleType'}, 'titleText': {'text': 'Carmen', '__typename': 'TitleText'}, 'releaseYear': {'year': 1912, 'endYear': None, '__typename': 'YearRange'}, 'releaseDate': None}, {'id': 'tt0000548', 'primaryImage': None, 'titleType': {'text': 'Short', 'id': 'short', 'isSeries': False, 'isEpisode': False, '__typename': 'TitleType'}, 'titleText': {'text': 'Fiskerliv i Norden', '__typename': 'TitleText'}, 'releaseYear': {'year': 1906, 'endYear': None, '__typename': 'YearRange'}, 'releaseDate': {'day': 15, 'month': 9, 'year': 1906, '__typename': 'ReleaseDate'}}]}\n"
     ]
    }
   ],
   "source": [
    "import requests\n",
    "\n",
    "url = \"https://moviesdatabase.p.rapidapi.com/titles\"\n",
    "\n",
    "headers = {\n",
    "\t\"content-type\": \"application/octet-stream\",\n",
    "\t\"X-RapidAPI-Key\": \"8401db6433msh3a46dd5bf23ad2ep19a280jsn48536a994246\",\n",
    "\t\"X-RapidAPI-Host\": \"moviesdatabase.p.rapidapi.com\"\n",
    "}\n",
    "\n",
    "response = requests.get(url, headers=headers)\n",
    "\n",
    "print(response.json())"
   ]
  },
  {
   "attachments": {},
   "cell_type": "markdown",
   "metadata": {},
   "source": [
    "This is a functional fetch of a movies API from Rapid API, but the data isn't very readable. Below is an example of using Pandas to format the key values as a dataframe."
   ]
  },
  {
   "cell_type": "code",
   "execution_count": 10,
   "metadata": {},
   "outputs": [
    {
     "name": "stdout",
     "output_type": "stream",
     "text": [
      "Old dataframe:            id                                    title  release_year\n",
      "0  tt0001922                That Winsome Winnie Smile          1911\n",
      "1  tt0001539                             Caïn et Abel          1911\n",
      "2  tt0001636                                  Galileo          1911\n",
      "3  tt0002148                   The Drummer's Vacation          1912\n",
      "4  tt0001702               The Indian Maiden's Lesson          1911\n",
      "5  tt0001856             The Revenue Man and the Girl          1911\n",
      "6  tt0001790  Les misérables - Époque 1: Jean Valjean          1913\n",
      "7  tt0000543                 Christian IXS bisættelse          1906\n",
      "8  tt0002089                                   Carmen          1912\n",
      "9  tt0000548                       Fiskerliv i Norden          1906\n",
      "Dataframe with new column:            id                                    title  release_year  rating\n",
      "0  tt0001922                That Winsome Winnie Smile          1911     4.5\n",
      "1  tt0001539                             Caïn et Abel          1911     3.8\n",
      "2  tt0001636                                  Galileo          1911     2.5\n",
      "3  tt0002148                   The Drummer's Vacation          1912     4.2\n",
      "4  tt0001702               The Indian Maiden's Lesson          1911     3.7\n",
      "5  tt0001856             The Revenue Man and the Girl          1911     2.9\n",
      "6  tt0001790  Les misérables - Époque 1: Jean Valjean          1913    10.0\n",
      "7  tt0000543                 Christian IXS bisættelse          1906     7.6\n",
      "8  tt0002089                                   Carmen          1912     5.5\n",
      "9  tt0000548                       Fiskerliv i Norden          1906     8.2\n"
     ]
    }
   ],
   "source": [
    "import requests\n",
    "import pandas as pd\n",
    "\n",
    "url = \"https://moviesdatabase.p.rapidapi.com/titles\"\n",
    "\n",
    "headers = {\n",
    "    \"content-type\": \"application/octet-stream\",\n",
    "    \"X-RapidAPI-Key\": \"8401db6433msh3a46dd5bf23ad2ep19a280jsn48536a994246\",\n",
    "    \"X-RapidAPI-Host\": \"moviesdatabase.p.rapidapi.com\"\n",
    "}\n",
    "\n",
    "response = requests.get(url, headers=headers)\n",
    "data = response.json()\n",
    "\n",
    "# Create an empty DataFrame\n",
    "df = pd.DataFrame()\n",
    "\n",
    "# Extract the required information and store it in a list of dictionaries\n",
    "results = data[\"results\"]\n",
    "entries = []\n",
    "for result in results:\n",
    "    entry = {\n",
    "        \"id\": result[\"id\"],\n",
    "        \"title\": result[\"titleText\"][\"text\"],\n",
    "        \"release_year\": result[\"releaseYear\"][\"year\"],\n",
    "    }\n",
    "    entries.append(entry)\n",
    "\n",
    "# Convert the list of dictionaries into a DataFrame\n",
    "df = pd.DataFrame(entries)\n",
    "\n",
    "print(\"Old dataframe: \",  df)\n",
    "\n",
    "ratings = [4.5, 3.8, 2.5, 4.2, 3.7, 2.9, 10.0, 7.6, 5.5, 8.2]\n",
    "\n",
    "# Add the ratings list as a new column to the DataFrame\n",
    "df['rating'] = ratings\n",
    "\n",
    "# Print the updated DataFrame\n",
    "print(\"Dataframe with new column: \", df)\n",
    "\n",
    "# ADD YOUR OWN COLUMN TO THE DATAFRAME\n",
    "\n"
   ]
  },
  {
   "attachments": {},
   "cell_type": "markdown",
   "metadata": {},
   "source": [
    "Using Pandas to format a request obtained from a 3rd Party API makes it much easier to read and you can select what you want to display as well. Pandas makes it easy to access data that you feel is important."
   ]
  },
  {
   "attachments": {},
   "cell_type": "markdown",
   "metadata": {},
   "source": [
    "# Backend and Frontend Example"
   ]
  },
  {
   "attachments": {},
   "cell_type": "markdown",
   "metadata": {},
   "source": [
    "# Write notes below"
   ]
  },
  {
   "attachments": {},
   "cell_type": "markdown",
   "metadata": {},
   "source": [
    "## Hacks\n",
    "\n",
    "\n",
    "CRUD:\n",
    "    - Create, Read, Update, Delete \n",
    "    - Functions in the database where we can manage an object class\n",
    "    - You can use cursor connect ot connect to the database and run SQL commands in code or terminal\n",
    "    - Uses user input to modify the backend\n",
    "Frontend Development:\n",
    "\n",
    "    - User interface, where the user can interact and give input that reaches backend using HTML, CSS, and JavaScript\n",
    "    - Makes sure that the frontend (website/app) is user friendly and visually appealing \n",
    "    \n",
    "Backend Development:\n",
    "\n",
    "    - Server-side programming using languages like Python, Ruby, Java, or PHP\n",
    "    - Handling data processing, database management, and server-side functions\n",
    "    - Ensuring scalability, security, and data management\n",
    "\n",
    "Fetching:\n",
    "\n",
    "    - Retrieving data from a server using AJAX, Fetch API, or third-party libraries like Axios\n",
    "    - Specific methods for certain requests \n",
    "        - POST, PUT (update), GET..."
   ]
  },
  {
   "attachments": {},
   "cell_type": "markdown",
   "metadata": {},
   "source": [
    "1. Create a completely unique API with all 4 CRUD features (Create, Read, Update, Delete)\n",
    "2. Create a Fetch API request for your corresponding API\n",
    "3. Attempt a complete website on GitHub Pages including HTML (optional)"
   ]
  },
  {
   "cell_type": "markdown",
   "metadata": {},
   "source": [
    "## Takeaways/Notes\n",
    "- Frontend is the interface that the user interacts with \n",
    "- Backend is all of the behind the scenes part \n",
    "- Use CRUD functions to connect the frontend and backend\n",
    "- data cleaning:\n",
    "    - input youtube link and change to embed link\n",
    "    - ensure inputs are correct data type: integer for year...\n",
    "- Fetching\n",
    "    - request to server using url to receive data (usually in JSON) --> can manipulate it into arrays/lists/dataframes (pandas)\n",
    "    - apparent in API's "
   ]
  },
  {
   "cell_type": "code",
   "execution_count": null,
   "metadata": {},
   "outputs": [],
   "source": [
    "import sqlite3\n",
    "\n",
    "def create_database():\n",
    "    # Connect to the database (will create it if it doesn't exist)\n",
    "    connection = sqlite3.connect('instance/Dogs.db')\n",
    "    cursor = connection.cursor()\n",
    "\n",
    "    # Create the professors table if it doesn't already exist\n",
    "    cursor.execute('''CREATE TABLE IF NOT EXISTS Dogs (\n",
    "                    name TEXT,\n",
    "                    breed TEXT,\n",
    "                    age INTEGER\n",
    "                )''')\n",
    "\n",
    "    # Commit changes and close the connection\n",
    "    connection.commit()\n",
    "    connection.close()\n",
    "\n",
    "# Call the function to create the database\n",
    "create_database()\n"
   ]
  },
  {
   "cell_type": "code",
   "execution_count": null,
   "metadata": {},
   "outputs": [],
   "source": [
    "from flask import Flask\n",
    "import sqlite3\n",
    "\n",
    "# Create a Flask application\n",
    "app = Flask(__name__)\n",
    "\n",
    "# Connect to the SQLite database using SQLite3\n",
    "conn = sqlite3.connect('instance/Dogs.db')\n",
    "\n",
    "# Create a cursor object to execute SQL commands\n",
    "cursor = conn.cursor()\n",
    "\n",
    "# Create a table in the database using SQL commands\n",
    "cursor.execute('''CREATE TABLE Dogs\n",
    "                 (id INTEGER PRIMARY KEY, name TEXT, breed TEXT, age INTEGER)''')\n",
    "\n",
    "# Commit the changes to the database\n",
    "conn.commit()\n",
    "\n",
    "# Close the connection\n",
    "conn.close()"
   ]
  },
  {
   "cell_type": "code",
   "execution_count": 15,
   "metadata": {},
   "outputs": [
    {
     "name": "stdout",
     "output_type": "stream",
     "text": [
      "Polly has been added to the list of dogs.\n"
     ]
    }
   ],
   "source": [
    "import sqlite3\n",
    "\n",
    "def create():\n",
    "   database = 'instance/Dogs.db'\n",
    "   name = input(\"Enter the dog's name: \")\n",
    "   breed = input(\"Enter the dog's breed: \")\n",
    "   age = input(\"Enter the dog's age (in human years): \")\n",
    "\n",
    "\n",
    "   # Connect to the database and create a cursor to execute SQL commands\n",
    "   connection = sqlite3.connect(database)\n",
    "   cursor = connection.cursor()\n",
    "\n",
    "\n",
    "   try:\n",
    "       # Execute SQL to insert record into db\n",
    "       cursor.execute(\"INSERT INTO Dogs (name, breed, age) VALUES (?, ?, ?)\", (name, breed, age))\n",
    "       # Commit the changes\n",
    "       connection.commit()\n",
    "       print(f\"{name} has been added to the list of dogs.\")\n",
    "              \n",
    "   except sqlite3.Error as error:\n",
    "       print(\"Error while inserting record\", error)\n",
    "\n",
    "\n",
    "   # Close cursor and connection\n",
    "   cursor.close()\n",
    "   connection.close()\n",
    "\n",
    "create()"
   ]
  },
  {
   "cell_type": "code",
   "execution_count": 16,
   "metadata": {},
   "outputs": [
    {
     "name": "stdout",
     "output_type": "stream",
     "text": [
      "List of dogs :\n",
      "Name: Elly\n",
      "Breed: Rottweiler\n",
      "Age: 10\n",
      "\n",
      "Name: Athyna\n",
      "Breed: Pitbull\n",
      "Age: 9\n",
      "\n",
      "Name: Oakley\n",
      "Breed: Mixed\n",
      "Age: 0\n",
      "\n",
      "Name: Pippy\n",
      "Breed: Mixed GS/Boxer\n",
      "Age: 2\n",
      "\n",
      "Name: Polly\n",
      "Breed: Blue Herder dog\n",
      "Age: 4\n",
      "\n"
     ]
    }
   ],
   "source": [
    "import sqlite3\n",
    "\n",
    "def read():\n",
    "    try:\n",
    "        # Open a connection to the database and create a cursor\n",
    "        connection = sqlite3.connect('instance/Dogs.db')\n",
    "        cursor = connection.cursor()\n",
    "\n",
    "        # Fetch all records from the dog table\n",
    "        cursor.execute(\"SELECT * FROM Dogs\")\n",
    "        rows = cursor.fetchall()\n",
    "\n",
    "        # If there are any records, print them\n",
    "        if len(rows) > 0:\n",
    "            print(\"List of dogs :\")\n",
    "            for row in rows:\n",
    "                print(f\"Name: {row[1]}\\nBreed: {row[2]}\\nAge: {row[3]}\\n\")\n",
    "        else:\n",
    "            print(\"There are no dogs in the list.\")\n",
    "\n",
    "    except sqlite3.Error as error:\n",
    "        print(\"Error while connecting to the database:\", error)\n",
    "\n",
    "    finally:\n",
    "        # Close the cursor and the connection to the database\n",
    "        cursor.close()\n",
    "        connection.close()\n",
    "\n",
    "read()"
   ]
  },
  {
   "cell_type": "code",
   "execution_count": 17,
   "metadata": {},
   "outputs": [
    {
     "name": "stdout",
     "output_type": "stream",
     "text": [
      "Enter the new information for the dog:\n",
      "Pippy's record has been updated.\n"
     ]
    }
   ],
   "source": [
    "import sqlite3\n",
    "\n",
    "def update():\n",
    "    database = 'instance/Dogs.db'\n",
    "    connection = sqlite3.connect(database)\n",
    "    cursor = connection.cursor()\n",
    "    \n",
    "    try:\n",
    "        # Get the dog's name to update\n",
    "        name = input(\"Enter the name of the dog to update: \")\n",
    "        \n",
    "        # Retrieve the current record from the database\n",
    "        cursor.execute(\"SELECT * FROM Dogs WHERE name=?\", (name,))\n",
    "        record = cursor.fetchone()\n",
    "        \n",
    "        # If the dog is found, update the record\n",
    "        if record:\n",
    "            print(\"Enter the new information for the dog:\")\n",
    "            breed = input(f\"Current breed: {record[2]}\\nNew breed: \")\n",
    "            age = input(f\"Current age: {record[3]}\\nNew age: \")\n",
    "            \n",
    "            # Execute SQL to update the record\n",
    "            cursor.execute(\"UPDATE Dogs SET breed=?, age=? WHERE name=?\", (breed, age, name))\n",
    "            connection.commit()\n",
    "            \n",
    "            print(f\"{name}'s record has been updated.\")\n",
    "        \n",
    "        # If the dog is not found, notify the user\n",
    "        else:\n",
    "            print(f\"No record found for {name}.\")\n",
    "    \n",
    "    except sqlite3.Error as error:\n",
    "        print(\"Error while updating record\", error)\n",
    "    \n",
    "    # Close cursor and connection\n",
    "    cursor.close()\n",
    "    connection.close()\n",
    "update ()\n"
   ]
  },
  {
   "cell_type": "code",
   "execution_count": 18,
   "metadata": {},
   "outputs": [
    {
     "name": "stdout",
     "output_type": "stream",
     "text": [
      "Polly has been deleted from the list of dogs.\n"
     ]
    }
   ],
   "source": [
    "import sqlite3\n",
    "\n",
    "\n",
    "def delete():\n",
    "    # Connect to the database and create a cursor\n",
    "    connection = sqlite3.connect('instance/Dogs.db')\n",
    "    cursor = connection.cursor()\n",
    "\n",
    "    # Prompt the user for the name of the dog to delete\n",
    "    name = input(\"Enter the name of the dog you want to delete: \")\n",
    "\n",
    "    # Use a SQL query to find the dog with the given name\n",
    "    cursor.execute(\"SELECT * FROM Dogs WHERE name=?\", (name,))\n",
    "    row = cursor.fetchone()\n",
    "\n",
    "    # If the professor exists, confirm deletion and delete the record\n",
    "    if row:\n",
    "        confirm = input(f\"Are you sure you want to delete {name}? (y/n): \")\n",
    "        if confirm.lower() == 'y':\n",
    "            cursor.execute(\"DELETE FROM Dogs WHERE name=?\", (name,))\n",
    "            connection.commit()\n",
    "            print(f\"{name} has been deleted from the list of dogs.\")\n",
    "    else:\n",
    "        print(f\"{name} not found in the list of dogs.\")\n",
    "\n",
    "    # Close the cursor and the connection to the database\n",
    "    cursor.close()\n",
    "    connection.close()\n",
    "\n",
    "delete()"
   ]
  },
  {
   "cell_type": "code",
   "execution_count": 21,
   "metadata": {},
   "outputs": [
    {
     "name": "stdout",
     "output_type": "stream",
     "text": [
      "   age               cities         dob                  email           name  \\\n",
      "0   17  Escondido, Carlsbad  01-15-2006     joseanda@gmail.com  Joselyn Anda2   \n",
      "1   16          Los Angeles  10-03-2006      linaaaa@gmail.com     Lina Awad2   \n",
      "2   15            Encinitas  10-05-2007       najaAF@gmail.com  Naja Fonseca2   \n",
      "3   17                Poway  10-21-1959  amithaaaaas@gmail.com  Amitha Sanka2   \n",
      "4   48                 None  12-09-1975        danda@gmail.com  Derryck Anda    \n",
      "\n",
      "   id       phone  \n",
      "0   1  8586197777  \n",
      "1   2  8886665555  \n",
      "2   3  8587360021  \n",
      "3   4  8584320098  \n",
      "4   5  8583490000  \n"
     ]
    }
   ],
   "source": [
    "import requests\n",
    "import pandas as pd\n",
    "\n",
    "url = \"http://localhost:8731/api/users/\"\n",
    "\n",
    "response = requests.get(url)\n",
    "data = response.json()\n",
    "\n",
    "df = pd.DataFrame()\n",
    "attributes = []\n",
    "for result in data:\n",
    "    user = {\n",
    "        \"age\": result[\"age\"],\n",
    "        \"cities\": result[\"cities\"],\n",
    "        \"dob\": result[\"dob\"],\n",
    "        \"email\": result[\"email\"],\n",
    "        \"name\": result[\"name\"],\n",
    "        \"id\": result[\"id\"],\n",
    "        \"phone\": result[\"phone\"],\n",
    "\n",
    "    }\n",
    "    attributes.append(user)\n",
    "\n",
    "df = pd.DataFrame(attributes)\n",
    "\n",
    "print(df)"
   ]
  }
 ],
 "metadata": {
  "kernelspec": {
   "display_name": "Python 3.9.12 ('base')",
   "language": "python",
   "name": "python3"
  },
  "language_info": {
   "codemirror_mode": {
    "name": "ipython",
    "version": 3
   },
   "file_extension": ".py",
   "mimetype": "text/x-python",
   "name": "python",
   "nbconvert_exporter": "python",
   "pygments_lexer": "ipython3",
   "version": "3.9.12"
  },
  "orig_nbformat": 4,
  "vscode": {
   "interpreter": {
    "hash": "40d3a090f54c6569ab1632332b64b2c03c39dcf918b08424e98f38b5ae0af88f"
   }
  }
 },
 "nbformat": 4,
 "nbformat_minor": 2
}
