{
 "cells": [
  {
   "cell_type": "markdown",
   "metadata": {},
   "source": [
    "# United States History Study Guide\n",
    "> Study Guide about the Bill of Rights, How the Government is structured, & How Geography Affects the Development of Places\n",
    "---\n",
    "\n",
    "## Bill of Rights\n",
    "1. Amendment 1- People have the Freedom of Speech, Religion, Press, Petition, and Assembly\n",
    "2. Amendment 2- People have the right to bear arms in order to protect themselves and to have a prepared/well regulated militia for the security of the state.\n",
    "3. Amendment 3- No quartering of soldiers without consent/permission. \n",
    "    - If the buildings are government owned or not private property then it is allowed.\n",
    "4. Amendment 4- No search and seize without a warrant. Searching of home, vehicle, business. Seize is when the officers take possession of items.\n",
    "    - Can be deemed reasonable by law\n",
    "5. Amendment 5- Plead the 5th to prevent self-incrimination, forbids double jeopardy (being tried 2x for the same crime), guarantees the right to a rial by a grand jury. Also no private property shall be taken for public use. \n",
    "    - Plead the 5th, except in cases occurring in land/naval forces/Militia--> when in actual service in time of War or public danger\n",
    "6. Amendment 6- The accused have the right to a speedy (not duration but ASAP/without delay), public trial by a jury where the crime was committed, to know who your accusers are, the nature and causes of the charges against you and to know the evidence they have presented. Also to have obligated process to obtain witnesses in his/her favor, and assistance of counsel for his/her defense.\n",
    "7. Amendment 7- People have the right to a trial by a jury in all federal civil cases \n",
    "    - It does not guarantee a trial by jury in cases brought against the government.\n",
    "8. Amendment 8- No cruel or unusual punishments. As well as no excessive bails or fines.\n",
    "9. Amendment 9- The government cannot take away other rights of the people that are not listed in the Constitution, including the right to privacy.\n",
    "    - It forbids the states to shorten the privileges or immunities of citizens or to deny any person of life, liberty, or property without due process of law.\n",
    "10. Amendment 10- The powers not assigned/given to the United States by the Constitution, nor banned by it to the States, are reserved to the States, or to the people.\n",
    "    - The Tenth Amendment was added to insure that the powers of the federal government remain limited. The writers of the Tenth Amendment wanted to make it clear that the power of the federal government comes from the states and the people, not the other way around.\n",
    "    - The federal government has the powers given to it by the Constitution, while the state governments and the people have the rest of the powers.\n",
    "\n",
    "\n",
    "### **Trial by Jury**- when multiple people/locals hear the case and decide together if the defendant is guilty. Supreme Court says there should be at least 6 people present. Most juries today in the United States have twelve members.\n",
    "### **Civil Cases**- refers to non-criminal cases. Criminal cases are cases where the government charges someone with a crime. If declared guilty, the person could go to jail or be fined by the court. Civil cases are usually arguments between two private citizens/organizations. The victim in a civil case usually sues for \"damages.\""
   ]
  }
 ],
 "metadata": {
  "language_info": {
   "name": "python"
  },
  "orig_nbformat": 4
 },
 "nbformat": 4,
 "nbformat_minor": 2
}
