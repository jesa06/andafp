{
 "cells": [
  {
   "cell_type": "markdown",
   "metadata": {},
   "source": [
    "# Python sample code (loop)\n",
    ">This is an example of using a loop in python, printing each step until the break. Then adding a message at the last iteration."
   ]
  },
  {
   "cell_type": "code",
   "execution_count": 4,
   "metadata": {},
   "outputs": [
    {
     "name": "stdout",
     "output_type": "stream",
     "text": [
      "hey guys 1\n",
      "hey guys 2\n",
      "hey guys 3\n",
      "hey guys 4\n",
      "hey guys 5\n",
      "hey guys 6\n",
      "hey guys 7\n",
      "hey guys 8\n",
      "hey guys 9\n",
      "BYE GUYS! :)\n"
     ]
    }
   ],
   "source": [
    "a=1\n",
    "while (a < 10):\n",
    "    print('hey guys', a)\n",
    "    if(a==9):\n",
    "        print('BYE GUYS! :)')\n",
    "    a=a+1\n"
   ]
  }
 ],
 "metadata": {
  "kernelspec": {
   "display_name": "Python 3.8.9 64-bit",
   "language": "python",
   "name": "python3"
  },
  "language_info": {
   "codemirror_mode": {
    "name": "ipython",
    "version": 3
   },
   "file_extension": ".py",
   "mimetype": "text/x-python",
   "name": "python",
   "nbconvert_exporter": "python",
   "pygments_lexer": "ipython3",
   "version": "3.8.9"
  },
  "orig_nbformat": 4,
  "vscode": {
   "interpreter": {
    "hash": "31f2aee4e71d21fbe5cf8b01ff0e069b9275f58929596ceb00d14d90e3e16cd6"
   }
  }
 },
 "nbformat": 4,
 "nbformat_minor": 2
}
